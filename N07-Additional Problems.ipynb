{
 "cells": [
  {
   "cell_type": "markdown",
   "id": "97baef94-d002-4abf-8574-f1c45d248215",
   "metadata": {},
   "source": [
    "<img src=\"images/Picture0.png\" width=200x />\n",
    "\n",
    "# Notebook 07 - Additional Problems\n",
    "\n",
    "### Covered in this notebook:\n",
    "\n",
    "### Prerequisites:\n",
    "- N02, N03, N05\n",
    "\n",
    "### Credits:\n",
    "* https://gurobi.github.io/modeling-examples/"
   ]
  },
  {
   "cell_type": "markdown",
   "id": "03392c8b-bb93-4b23-ab2a-140319601ae3",
   "metadata": {},
   "source": [
    "{introduce examples from Gurobi's model library}\n",
    "\n",
    "* [Logical Design](https://gurobi.github.io/modeling-examples/logical_design/)\n",
    "* [Power Generation](https://gurobi.github.io/modeling-examples/power_generation/)\n",
    "* [Opencast Mining](https://gurobi.github.io/modeling-examples/opencast_mining/)"
   ]
  },
  {
   "cell_type": "code",
   "execution_count": null,
   "id": "167d401f-7ef5-443c-954b-5d4e11590802",
   "metadata": {},
   "outputs": [],
   "source": []
  }
 ],
 "metadata": {
  "kernelspec": {
   "display_name": "Python 3 (ipykernel)",
   "language": "python",
   "name": "python3"
  },
  "language_info": {
   "codemirror_mode": {
    "name": "ipython",
    "version": 3
   },
   "file_extension": ".py",
   "mimetype": "text/x-python",
   "name": "python",
   "nbconvert_exporter": "python",
   "pygments_lexer": "ipython3",
   "version": "3.12.4"
  }
 },
 "nbformat": 4,
 "nbformat_minor": 5
}
