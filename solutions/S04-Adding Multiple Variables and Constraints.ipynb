{
 "cells": [
  {
   "cell_type": "markdown",
   "id": "bd5629e9-e594-476d-9897-a658a74c09cf",
   "metadata": {},
   "source": [
    "<img src=\"images/Picture0.png\" width=200x />\n",
    "\n",
    "# Notebook 04 - Adding Multiple Variables and Constraints\n",
    "\n",
    "### Covered in this notebook:\n",
    "\n",
    "* Using addVars method\n",
    "* Using addConstrs method"
   ]
  },
  {
   "cell_type": "markdown",
   "id": "bfe284ab-9e67-433b-b9a3-47d96cbb1658",
   "metadata": {},
   "source": [
    "To wrap up our introduction of the fundamentals, let's explore ways to quickly add many variables and constraints.  Some professional Gurobi models involve thousands of variables and tens of thousands of constraints: how do they do this practically?  Let's look into it.\n",
    "\n",
    "## Multiple variables\n",
    "\n",
    "### Option 1: Add variables using a loop\n",
    "\n",
    "Of course, we can use a loop structure to add many decision variables to a model.  We will not assign these decision variables to Python variables (`x = model.addVar() for i in range(10)` would <i>not</i> be useful code, because we would reassign the variable over and over again).  But we need some assignment to let us distinguish between our decision variables and retrieve them when we need them.  This is where we use the optional `name` argument of `addVar`, and the method `Model.getVarByName()` (or, analogously, `Model.getConstrByName()`) to retrieve it.  The `name` argument instantiates the `VarName` attribute of the decision variable."
   ]
  },
  {
   "cell_type": "code",
   "execution_count": 1,
   "id": "3946c303-86e8-4b10-974f-884b7e3209e0",
   "metadata": {},
   "outputs": [],
   "source": [
    "import gurobipy as gp\n",
    "from gurobipy import GRB"
   ]
  },
  {
   "cell_type": "code",
   "execution_count": 2,
   "id": "e2bb9961-bdaa-48cf-8f98-960ff7cf85e7",
   "metadata": {},
   "outputs": [
    {
     "name": "stdout",
     "output_type": "stream",
     "text": [
      "Set parameter Username\n"
     ]
    }
   ],
   "source": [
    "# create a practice model\n",
    "n = gp.Model()\n",
    "\n",
    "# add four continuous variables with names x0, x1, x2, x3\n",
    "for i in range(4):\n",
    "    n.addVar(name = 'x' + str(i))"
   ]
  },
  {
   "cell_type": "markdown",
   "id": "93e46035-adac-4747-aa4b-701b87d435af",
   "metadata": {},
   "source": [
    "### Option 2: Use the addVars method\n",
    "\n",
    "Alternatively, we can use Gurobi's built-in methods for adding multiple variables at once.  This is often the quicker way forward, since loops take time to iterate, whereas this method instantiates all of the variables designated at the same time.\n",
    "\n",
    "The `Model.addVars()` method creates a tupledict object containing the newly created decision variables.  The keys for the decision variables come from their indices, which are <i>very</i> flexible.  `addVars` takes `*indices` as a wildcard argument; that is, any number of arguments can be passed in.  The type of those arguments can be broad as well.  `*indices` can take an integer, multiple integers, a constant, a tuple, a list, a combination of the previous… there are many possibilities, not all of which are relevant to us as we are learning, but which are interesting in their own right.  Gurobi then creates a multi-dimensional tupledict of variables according to these indices.  [{SHOULD I WRITE ABOUT HOW TO INDEX A VARIABLE AS WELL??}]()\n",
    "\n",
    "`addVars` also takes the arguments we are familiar with from `addVar`; namely, `lb`, `ub`, `obj`, `vtype`, and `name`.\n",
    "\n",
    "Create a model to practice with, then add variables to it using the appropriate means."
   ]
  },
  {
   "cell_type": "code",
   "execution_count": null,
   "id": "d3098789-f67f-49d7-ad51-60d20f8d470c",
   "metadata": {},
   "outputs": [],
   "source": [
    "# examples: ask the students about the indices they should have, then ask\n",
    "## them about the shape you want to create and let them make their own indices"
   ]
  },
  {
   "cell_type": "code",
   "execution_count": 35,
   "id": "5d7a8ba5-1df6-445e-913f-bfd01fbf674f",
   "metadata": {},
   "outputs": [
    {
     "data": {
      "text/plain": [
       "{0: <gurobi.Var *Awaiting Model Update*>,\n",
       " 1: <gurobi.Var *Awaiting Model Update*>,\n",
       " 2: <gurobi.Var *Awaiting Model Update*>,\n",
       " 3: <gurobi.Var *Awaiting Model Update*>,\n",
       " 4: <gurobi.Var *Awaiting Model Update*>}"
      ]
     },
     "execution_count": 35,
     "metadata": {},
     "output_type": "execute_result"
    }
   ],
   "source": [
    "# add 5 variables, and name the tupledict \"variables\"\n",
    "variables = n.addVars(5, name=\"variables\")"
   ]
  },
  {
   "cell_type": "code",
   "execution_count": 7,
   "id": "e3246add-3eee-49ec-90b2-2cf7a4f6e7d2",
   "metadata": {},
   "outputs": [
    {
     "data": {
      "text/plain": [
       "{(0, 0): <gurobi.Var *Awaiting Model Update*>,\n",
       " (1, 0): <gurobi.Var *Awaiting Model Update*>,\n",
       " (2, 0): <gurobi.Var *Awaiting Model Update*>}"
      ]
     },
     "execution_count": 7,
     "metadata": {},
     "output_type": "execute_result"
    }
   ],
   "source": [
    "# add three two-dimensional variables\n",
    "n.addVars(3,1)"
   ]
  },
  {
   "cell_type": "code",
   "execution_count": 8,
   "id": "de4a3b86-eb37-412f-9ee6-65ac51acfa03",
   "metadata": {},
   "outputs": [
    {
     "data": {
      "text/plain": [
       "{'a': <gurobi.Var *Awaiting Model Update*>,\n",
       " 'b': <gurobi.Var *Awaiting Model Update*>,\n",
       " 3: <gurobi.Var *Awaiting Model Update*>}"
      ]
     },
     "execution_count": 8,
     "metadata": {},
     "output_type": "execute_result"
    }
   ],
   "source": [
    "# add variables with indices 'a', 'b', and 3\n",
    "n.addVars(('a','b',3))"
   ]
  },
  {
   "cell_type": "code",
   "execution_count": 9,
   "id": "fde0db1c-a0ae-4b24-bde3-9f09b2091b26",
   "metadata": {},
   "outputs": [
    {
     "data": {
      "text/plain": [
       "{(0, 0, 0): <gurobi.Var *Awaiting Model Update*>,\n",
       " (0, 1, 0): <gurobi.Var *Awaiting Model Update*>,\n",
       " (0, 2, 0): <gurobi.Var *Awaiting Model Update*>,\n",
       " (1, 0, 0): <gurobi.Var *Awaiting Model Update*>,\n",
       " (1, 1, 0): <gurobi.Var *Awaiting Model Update*>,\n",
       " (1, 2, 0): <gurobi.Var *Awaiting Model Update*>,\n",
       " (2, 0, 0): <gurobi.Var *Awaiting Model Update*>,\n",
       " (2, 1, 0): <gurobi.Var *Awaiting Model Update*>,\n",
       " (2, 2, 0): <gurobi.Var *Awaiting Model Update*>}"
      ]
     },
     "execution_count": 9,
     "metadata": {},
     "output_type": "execute_result"
    }
   ],
   "source": [
    "# add nine three-dimensional variables\n",
    "n.addVars(3,3,1)"
   ]
  },
  {
   "cell_type": "markdown",
   "id": "3386cadf-aeec-426f-8e3e-6ea38804327c",
   "metadata": {},
   "source": [
    "### Adding multiple constraints\n",
    "\n",
    "When it comes to adding multiple constraints at once, the `Model.addConstrs()` method is our friend.  We won't discuss adding constraints in a loop because the method `addConstrs` actually works according to that idea already.  `addConstrs` takes a `generator` expression which defines a constraint over a loop.  (The other argument it takes is `name`.)\n",
    "\n",
    "This is best understood through examples, so we'll jump in quickly.  Before we do, let's take a moment to note a useful built-in method in Gurobipy: `tupledict.sum()`, which sums over a tupledict, e.g. a tupledict of variables.  This lets us create linear expressions across variable dictionaries.  `tupledict.sum()` takes the argument of a `pattern`, where the index values to be included in the sum are given for each position.  A '`*`' value indicates that all values are to be included for that position.\n",
    "\n",
    "Look at the construction of the two examples below, then build your own constraints according to the prompts."
   ]
  },
  {
   "cell_type": "code",
   "execution_count": 41,
   "id": "1b4ce57a-43c9-4de5-9184-2ef1a345abd4",
   "metadata": {},
   "outputs": [
    {
     "data": {
      "text/plain": [
       "{0: <gurobi.Constr *Awaiting Model Update*>,\n",
       " 1: <gurobi.Constr *Awaiting Model Update*>,\n",
       " 2: <gurobi.Constr *Awaiting Model Update*>,\n",
       " 3: <gurobi.Constr *Awaiting Model Update*>}"
      ]
     },
     "execution_count": 41,
     "metadata": {},
     "output_type": "execute_result"
    }
   ],
   "source": [
    "m1 = gp.Model()\n",
    "x = m1.addVars(4)\n",
    "m1.update()\n",
    "\n",
    "# constraint: each of 4 variables less than or equal to 1\n",
    "m1.addConstrs(x[i] <= 1 for i in x)"
   ]
  },
  {
   "cell_type": "code",
   "execution_count": 43,
   "id": "8e14471a-b7f0-4127-a324-487fa62751d9",
   "metadata": {},
   "outputs": [
    {
     "data": {
      "text/plain": [
       "<gurobi.Constr *Awaiting Model Update*>"
      ]
     },
     "execution_count": 43,
     "metadata": {},
     "output_type": "execute_result"
    }
   ],
   "source": [
    "m2 = gp.Model()\n",
    "x = m2.addVars(4)\n",
    "m2.update()\n",
    "\n",
    "# constraint: the total sum of all variables must be less than 50\n",
    "m2.addConstr(x.sum('*') <= 50)"
   ]
  },
  {
   "cell_type": "code",
   "execution_count": 44,
   "id": "9dfe1eb1-b841-438a-908a-29d23f98aeeb",
   "metadata": {},
   "outputs": [
    {
     "data": {
      "text/plain": [
       "{0: <gurobi.Constr *Awaiting Model Update*>,\n",
       " 1: <gurobi.Constr *Awaiting Model Update*>,\n",
       " 2: <gurobi.Constr *Awaiting Model Update*>,\n",
       " 3: <gurobi.Constr *Awaiting Model Update*>}"
      ]
     },
     "execution_count": 44,
     "metadata": {},
     "output_type": "execute_result"
    }
   ],
   "source": [
    "m3 = gp.Model()\n",
    "x = m3.addVars(4, 4)\n",
    "m3.update()\n",
    "\n",
    "# constraint: the sum of all variables sharing a first index must each be less than 50\n",
    "m3.addConstrs(x.sum(i, '*') <= 50 for i in range(4))"
   ]
  },
  {
   "cell_type": "code",
   "execution_count": 45,
   "id": "b3e1c7b4-d70c-4b6f-b1ea-90e18cf4280d",
   "metadata": {},
   "outputs": [
    {
     "data": {
      "text/plain": [
       "{(0, 0): <gurobi.Constr *Awaiting Model Update*>,\n",
       " (0, 1): <gurobi.Constr *Awaiting Model Update*>,\n",
       " (0, 2): <gurobi.Constr *Awaiting Model Update*>,\n",
       " (0, 3): <gurobi.Constr *Awaiting Model Update*>,\n",
       " (1, 0): <gurobi.Constr *Awaiting Model Update*>,\n",
       " (1, 1): <gurobi.Constr *Awaiting Model Update*>,\n",
       " (1, 2): <gurobi.Constr *Awaiting Model Update*>,\n",
       " (1, 3): <gurobi.Constr *Awaiting Model Update*>,\n",
       " (2, 0): <gurobi.Constr *Awaiting Model Update*>,\n",
       " (2, 1): <gurobi.Constr *Awaiting Model Update*>,\n",
       " (2, 2): <gurobi.Constr *Awaiting Model Update*>,\n",
       " (2, 3): <gurobi.Constr *Awaiting Model Update*>,\n",
       " (3, 0): <gurobi.Constr *Awaiting Model Update*>,\n",
       " (3, 1): <gurobi.Constr *Awaiting Model Update*>,\n",
       " (3, 2): <gurobi.Constr *Awaiting Model Update*>,\n",
       " (3, 3): <gurobi.Constr *Awaiting Model Update*>}"
      ]
     },
     "execution_count": 45,
     "metadata": {},
     "output_type": "execute_result"
    }
   ],
   "source": [
    "m4 = gp.Model()\n",
    "x = m4.addVars(4)\n",
    "m4.update()\n",
    "\n",
    "# constraint: the sum of any two variables drawn randomly with replacement must be less than 1\n",
    "m4.addConstrs(x[i] + x[j] <= 1 for i in x for j in x)"
   ]
  },
  {
   "cell_type": "code",
   "execution_count": 10,
   "id": "69383c4f-fbae-4b6e-b376-e1718c05d751",
   "metadata": {},
   "outputs": [
    {
     "data": {
      "text/plain": [
       "{(0, 1): <gurobi.Constr *Awaiting Model Update*>,\n",
       " (0, 2): <gurobi.Constr *Awaiting Model Update*>,\n",
       " (0, 3): <gurobi.Constr *Awaiting Model Update*>,\n",
       " (1, 0): <gurobi.Constr *Awaiting Model Update*>,\n",
       " (1, 2): <gurobi.Constr *Awaiting Model Update*>,\n",
       " (1, 3): <gurobi.Constr *Awaiting Model Update*>,\n",
       " (2, 0): <gurobi.Constr *Awaiting Model Update*>,\n",
       " (2, 1): <gurobi.Constr *Awaiting Model Update*>,\n",
       " (2, 3): <gurobi.Constr *Awaiting Model Update*>,\n",
       " (3, 0): <gurobi.Constr *Awaiting Model Update*>,\n",
       " (3, 1): <gurobi.Constr *Awaiting Model Update*>,\n",
       " (3, 2): <gurobi.Constr *Awaiting Model Update*>}"
      ]
     },
     "execution_count": 10,
     "metadata": {},
     "output_type": "execute_result"
    }
   ],
   "source": [
    "m5 = gp.Model()\n",
    "x = m5.addVars(4)\n",
    "m5.update()\n",
    "\n",
    "# constraint: the sum of any two variables drawn randomly with replacement must be less than 1,\n",
    "# unless the variable is added to itself\n",
    "m5.addConstrs(x[i] + x[j] <= 1 for i in x for j in x if i != j)"
   ]
  },
  {
   "cell_type": "code",
   "execution_count": 46,
   "id": "b703e212-613a-442d-a984-930cc6bd536a",
   "metadata": {},
   "outputs": [
    {
     "data": {
      "text/plain": [
       "{(0, 0): <gurobi.Constr *Awaiting Model Update*>,\n",
       " (0, 1): <gurobi.Constr *Awaiting Model Update*>,\n",
       " (0, 2): <gurobi.Constr *Awaiting Model Update*>,\n",
       " (0, 3): <gurobi.Constr *Awaiting Model Update*>,\n",
       " (0, 4): <gurobi.Constr *Awaiting Model Update*>,\n",
       " (1, 0): <gurobi.Constr *Awaiting Model Update*>,\n",
       " (1, 1): <gurobi.Constr *Awaiting Model Update*>,\n",
       " (1, 2): <gurobi.Constr *Awaiting Model Update*>,\n",
       " (1, 3): <gurobi.Constr *Awaiting Model Update*>,\n",
       " (1, 4): <gurobi.Constr *Awaiting Model Update*>,\n",
       " (2, 0): <gurobi.Constr *Awaiting Model Update*>,\n",
       " (2, 1): <gurobi.Constr *Awaiting Model Update*>,\n",
       " (2, 2): <gurobi.Constr *Awaiting Model Update*>,\n",
       " (2, 3): <gurobi.Constr *Awaiting Model Update*>,\n",
       " (2, 4): <gurobi.Constr *Awaiting Model Update*>,\n",
       " (3, 0): <gurobi.Constr *Awaiting Model Update*>,\n",
       " (3, 1): <gurobi.Constr *Awaiting Model Update*>,\n",
       " (3, 2): <gurobi.Constr *Awaiting Model Update*>,\n",
       " (3, 3): <gurobi.Constr *Awaiting Model Update*>,\n",
       " (3, 4): <gurobi.Constr *Awaiting Model Update*>}"
      ]
     },
     "execution_count": 46,
     "metadata": {},
     "output_type": "execute_result"
    }
   ],
   "source": [
    "m5 = gp.Model()\n",
    "x = m5.addVars(4)\n",
    "y = m5.addVars(5)\n",
    "m5.update()\n",
    "\n",
    "# constraint: any given variable in x is less than any given variable in y\n",
    "m5.addConstrs(x[i] <= y[j] for i in x for j in y)"
   ]
  },
  {
   "cell_type": "markdown",
   "id": "cdebf879-2c9a-4266-8d77-471967039c7c",
   "metadata": {},
   "source": [
    "## Exercise: Growing Your Landscaping Business\n",
    "\n",
    "Now it's your turn again.  You're rethinking your landscaping business from Notebook 02 and deciding on what types of greenery to focus on in the next quarter.\n",
    "\n",
    "The nursery has offered you a variety of species of shrub and tree to choose from.  The amount that each plant increases your revenue varies, as does the time they take to plant.  You'd like to know which plants to focus on to create your optimal job.\n",
    "\n",
    "The `shrubs.csv` and `trees.csv` files give the names of the plants available to you, the amount that each raises your revenue, and the average time each takes to plant.\n",
    "\n",
    "The rest of your conditions are unchanged:\n",
    "\n",
    "* Your patrons still prefer at least a three-to-one ratio of shrubs to trees.\n",
    "* You still don't want to use more than 40 hours on greenery for a given job.\n",
    "* Your deal with the arbor still allows you to take out 100 credits' worth of greenery per job.  A shrub still costs 1 credit and a tree still costs 5 credits.\n",
    "* Your revenue still starts at $5000.  (However, it increases by a variable amount per tree or shrub.)\n",
    "\n",
    "Which plants give you your optimal job, and how much do you earn?\n",
    "\n",
    "<i>Note: If it's helpful, recall that the Gurobi model automatically defines an objective function based on the objective weights `obj` of the decision variables, with a default sense of minimization.</i>"
   ]
  },
  {
   "cell_type": "code",
   "execution_count": 48,
   "id": "f3f06903-f496-4727-8039-1c10987629c8",
   "metadata": {},
   "outputs": [],
   "source": [
    "import csv\n",
    "\n",
    "sName = []\n",
    "sRevenue = []\n",
    "sPlant = []\n",
    "\n",
    "with open('data/N02_data/ex2_shrubs.csv', mode='r') as infile:\n",
    "    reader = csv.reader(infile)\n",
    "    for row in reader:\n",
    "        sName.append(row[0])\n",
    "        sRevenue.append(float(row[1]))\n",
    "        sPlant.append(float(row[2]))\n",
    "\n",
    "tName = []\n",
    "tRevenue = []\n",
    "tPlant = []\n",
    "\n",
    "with open('data/N02_data/ex2_trees.csv', mode='r') as infile:\n",
    "    reader = csv.reader(infile)\n",
    "    for row in reader:\n",
    "        tName.append(row[0])\n",
    "        tRevenue.append(float(row[1]))\n",
    "        tPlant.append(float(row[2]))"
   ]
  },
  {
   "cell_type": "code",
   "execution_count": 49,
   "id": "76070f2c-e3ad-4aaa-8df6-6ce034243fc1",
   "metadata": {},
   "outputs": [],
   "source": [
    "# instantiate model\n",
    "p = gp.Model()"
   ]
  },
  {
   "cell_type": "code",
   "execution_count": 50,
   "id": "2cb3e4fc-9d5a-4e90-a49a-3807225bbfaa",
   "metadata": {},
   "outputs": [],
   "source": [
    "# add variables\n",
    "import numpy as np\n",
    "\n",
    "shrubs = p.addVars(len(sName), vtype=GRB.INTEGER, name=sName, obj=np.array(sRevenue)*-1)\n",
    "trees = p.addVars(len(tName), vtype=GRB.INTEGER, name=tName, obj=np.array(tRevenue)*-1)"
   ]
  },
  {
   "cell_type": "code",
   "execution_count": 51,
   "id": "4435f192-5f20-429a-b7dc-3d99dd11cb6a",
   "metadata": {},
   "outputs": [
    {
     "data": {
      "text/plain": [
       "<gurobi.Constr *Awaiting Model Update*>"
      ]
     },
     "execution_count": 51,
     "metadata": {},
     "output_type": "execute_result"
    }
   ],
   "source": [
    "# add constraints\n",
    "# at least 3 shrubs per tree:\n",
    "p.addConstr(shrubs.sum() >= 3 * trees.sum())\n",
    "\n",
    "# less than 40 hours per job:\n",
    "p.addConstrs(shrubs[i] * sPlant[i] + trees[j] * tPlant[j] <= 40 for i in shrubs for j in trees)\n",
    "\n",
    "# 100 credits worth of greenery per job:\n",
    "p.addConstr(shrubs.sum() + 5 * trees.sum() <= 100, name=\"credits\")"
   ]
  },
  {
   "cell_type": "code",
   "execution_count": 52,
   "id": "bda99ce7-a982-48ea-909a-bcefb8f59acd",
   "metadata": {},
   "outputs": [
    {
     "name": "stdout",
     "output_type": "stream",
     "text": [
      "Gurobi Optimizer version 11.0.3 build v11.0.3rc0 (mac64[arm] - Darwin 23.5.0 23F79)\n",
      "\n",
      "CPU model: Apple M2\n",
      "Thread count: 8 physical cores, 8 logical processors, using up to 8 threads\n",
      "\n",
      "Optimize a model with 342 rows, 37 columns and 754 nonzeros\n",
      "Model fingerprint: 0x768b0f97\n",
      "Variable types: 0 continuous, 37 integer (0 binary)\n",
      "Coefficient statistics:\n",
      "  Matrix range     [1e-01, 5e+00]\n",
      "  Objective range  [3e+01, 5e+02]\n",
      "  Bounds range     [0e+00, 0e+00]\n",
      "  RHS range        [4e+01, 1e+02]\n",
      "Found heuristic solution: objective -3472.000000\n",
      "Presolve removed 143 rows and 0 columns\n",
      "Presolve time: 0.00s\n",
      "Presolved: 199 rows, 37 columns, 468 nonzeros\n",
      "Variable types: 0 continuous, 37 integer (0 binary)\n",
      "Found heuristic solution: objective -5159.000000\n",
      "\n",
      "Root relaxation: objective -8.500000e+03, 23 iterations, 0.00 seconds (0.00 work units)\n",
      "\n",
      "    Nodes    |    Current Node    |     Objective Bounds      |     Work\n",
      " Expl Unexpl |  Obj  Depth IntInf | Incumbent    BestBd   Gap | It/Node Time\n",
      "\n",
      "     0     0 -8500.0000    0    2 -5159.0000 -8500.0000  64.8%     -    0s\n",
      "H    0     0                    -8359.000000 -8500.0000  1.69%     -    0s\n",
      "H    0     0                    -8360.000000 -8500.0000  1.67%     -    0s\n",
      "\n",
      "Cutting planes:\n",
      "  Gomory: 1\n",
      "  MIR: 1\n",
      "  StrongCG: 1\n",
      "\n",
      "Explored 1 nodes (23 simplex iterations) in 0.01 seconds (0.00 work units)\n",
      "Thread count was 8 (of 8 available processors)\n",
      "\n",
      "Solution count 4: -8360 -8359 -5159 -3472 \n",
      "No other solutions better than -8360\n",
      "\n",
      "Optimal solution found (tolerance 1.00e-04)\n",
      "Best objective -8.360000000000e+03, best bound -8.360000000000e+03, gap 0.0000%\n"
     ]
    }
   ],
   "source": [
    "p.optimize()"
   ]
  },
  {
   "cell_type": "markdown",
   "id": "7de527b8-859a-401b-a08c-9019fa5804d3",
   "metadata": {},
   "source": [
    "<strong>What is your optimal job?</strong>\n",
    "\n",
    "Print your nonzero plant variables and their values, and print your overall revenue."
   ]
  },
  {
   "cell_type": "code",
   "execution_count": 54,
   "id": "510f4571-2808-481c-9f82-22452059a5b0",
   "metadata": {},
   "outputs": [
    {
     "name": "stdout",
     "output_type": "stream",
     "text": [
      "fuchsia = 40.0\n",
      "Ageratina altissima = 12.0\n",
      "revenue: 13360.0\n"
     ]
    }
   ],
   "source": [
    "for v in p.getVars():\n",
    "    if v.x != 0:\n",
    "        print(v.varName, '=', v.x)\n",
    "\n",
    "print('revenue:', 5000-p.objVal)"
   ]
  },
  {
   "cell_type": "code",
   "execution_count": null,
   "id": "12589a03-bfbb-46d6-a6c6-8f16b4d739cb",
   "metadata": {},
   "outputs": [],
   "source": []
  }
 ],
 "metadata": {
  "kernelspec": {
   "display_name": "Python 3 (ipykernel)",
   "language": "python",
   "name": "python3"
  },
  "language_info": {
   "codemirror_mode": {
    "name": "ipython",
    "version": 3
   },
   "file_extension": ".py",
   "mimetype": "text/x-python",
   "name": "python",
   "nbconvert_exporter": "python",
   "pygments_lexer": "ipython3",
   "version": "3.12.4"
  }
 },
 "nbformat": 4,
 "nbformat_minor": 5
}
