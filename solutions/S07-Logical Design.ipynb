{
 "cells": [
  {
   "cell_type": "markdown",
   "id": "97baef94-d002-4abf-8574-f1c45d248215",
   "metadata": {},
   "source": [
    "<img src=\"images/Picture0.png\" width=200x />\n",
    "\n",
    "# Notebook 07 - Logical Design\n",
    "\n",
    "### Covered in this notebook:\n",
    "* Modeling and algorithm\n",
    "\n",
    "### Credits:\n",
    "* [Gurobi modeling examples](https://gurobi.github.io/modeling-examples/): [Logical design](https://gurobi.github.io/modeling-examples/logical_design/)\n",
    "* The example below is taken from the Gurobi modeling examples Github, which took the example in turn from Model Building in Mathematical Programming Fifth Edition by Paul H. Williams.  No credit is claimed for text, code, or algorithm.  Alterations occur in phrasing, order of information, and slight tweaks to written code."
   ]
  },
  {
   "cell_type": "markdown",
   "id": "03392c8b-bb93-4b23-ab2a-140319601ae3",
   "metadata": {},
   "source": [
    "## Introduction\n",
    "\n",
    "The following interesting example from the [Gurobi model library](https://gurobi.github.io/modeling-examples/) applies our acquired skills to a new context.  A <i>logical circuit</i> is a system with a given number of inputs and one output.  When impulses are applied to the inputs of the circuit, it responds by giving either an output (signal 1) or no output (signal 0).  The input impulses are characterized in the same way as the inputs: positive input (signal 1) or no input (signal 0).\n",
    "\n",
    "In this example, a logical circuit is to be built using only <i>NOR gates</i>.  A NOR gate is a device with two inputs and one output, and which has the property that there is a positive output (signal 1) if and only if neither input is positive.  By connecting such gates in combination, it is possible to construct a circuit to perform any desired logical function.\n",
    "\n",
    "For example, the circuit illustrated in the following figure will respond to the inputs A and B in the way indicated by the truth table.  (Unlabeled inputs are 0.)\n",
    "\n",
    "<img src=\"images/N07_images/circuit.png\"/>\n",
    "\n",
    "<strong>The objective</strong> is to construct a circuit using the minimum number of NOR gates that will perform the logical function specified by the following truth table:\n",
    "\n",
    "| A | B | Output |\n",
    "| --- | --- | --- | \n",
    "| 0 | 0 | 0 |\n",
    "| 0 | 1 | 1 |\n",
    "| 1 | 0 | 1 |\n",
    "| 1 | 1 | 0 |\n",
    "\n",
    "Each output from a NOR gate must lead into exactly one input into another NOR gate.  It may be assumed that the optimal design is a \"subnet\" of the \"maximal\" net shown in the following figure.\n",
    "\n",
    "<img src=\"images/N07_images/subnet.png\"/>"
   ]
  },
  {
   "cell_type": "markdown",
   "id": "9e63d1c1-03ae-4db5-bf60-86ef3378b102",
   "metadata": {},
   "source": [
    "## Model formulation\n",
    "\n",
    "Begin brainstorming your model formulation.  Hints to one solution are included below, suggesting:\n",
    "\n",
    "* The input data required by your program\n",
    "* The decision variables of the problem\n",
    "* Supplementary variables to parametrize the problem* constraints\n",
    "* The objective function of the problem\n",
    "\n",
    "Feel free to check your model against this framework before coding."
   ]
  },
  {
   "cell_type": "markdown",
   "id": "644924cc-1064-4c4b-99f6-8f1645e8559b",
   "metadata": {},
   "source": [
    "### Input data:\n",
    "\n",
    "We will need to define some input data for the model, including:\n",
    "\n",
    "* The values taken by A and B in each row of the truth table\n",
    "* Which gates are present\n",
    "* Which gates input into which other gates\n",
    "\n",
    "### Decision variables:\n",
    "\n",
    "The model depends on the following variables:\n",
    "\n",
    "* Is a given gate selected as part of the system?\n",
    "* Is input A an input into a given gate?  Is input B?\n",
    "\n",
    "### Supplementary variables:\n",
    "\n",
    "The following variable will also be useful to define, to create our framework:\n",
    "\n",
    "* The output of a given gate\n",
    "\n",
    "### Constraints:\n",
    "\n",
    "We are subject to the following constraints:\n",
    "\n",
    "* Mechanical constraints (defining the system's functionality):\n",
    "    * Each gate takes at most two inputs between A, B, and output from other gates.  (If only one input is given to a gate, the other input is 0.)\n",
    "    * Each gate gives exactly one output.\n",
    "    * A gate's output is 1 if and only if both inputs are 0.\n",
    "* Programmatic constraints:\n",
    "    * The output of gate 1 must be according to the truth table.\n",
    "    * The solution must be nontrivial (at least one gate must be active)."
   ]
  },
  {
   "cell_type": "markdown",
   "id": "c7036449-2b22-4e85-b407-763948f7bb7f",
   "metadata": {},
   "source": [
    "## Solution:\n",
    "\n",
    "### Input data:\n",
    "\n",
    "$i \\in \\text{Gates}=\\{1,...,7\\}$\n",
    "\n",
    "$i \\in \\text{Gates47}=\\{4,...,7\\}$\n",
    "\n",
    "$r \\in \\text{Rows}=\\{1,...,4\\}$\n",
    "\n",
    "$\\text{valueA}_r \\in \\{0,1 \\}$: Value of the external input A in row  $r$ of the truth table.\n",
    "\n",
    "$\\text{valueB}_r \\in \\{0,1 \\}$: Value of the external input B in row  $r$ of the truth table.\n",
    "\n",
    "\n",
    "<i>Note: The Gurobipy [multidict function](https://support.gurobi.com/hc/en-us/articles/17307437899025-Tutorial-Getting-Started-with-the-Gurobi-Python-API-using-dictionaries) allows users to create multiple dictionaries simultaneously:</i>\n",
    "\n",
    "```\n",
    "keys, dictA, dictB, dictC = gp.multidict({\n",
    "    key1: [valA1, valB1, valC1],\n",
    "    ...\n",
    "    keyn: [valAn, valBn, valCn]\n",
    "})\n",
    "```\n",
    "\n",
    "<i>The `multidict` function splits a given dictionary whose values are lists of equal length into multiple dictionaries, along with a list of keys.  Our example above creates three dictionaries, namely `dictA`, `dictB`, and `dictC`, and creates a list of keys assigned to `keys`.</i>"
   ]
  },
  {
   "cell_type": "code",
   "execution_count": 1,
   "id": "a78ab749-3110-4dfb-8be0-467bd74a06b8",
   "metadata": {},
   "outputs": [],
   "source": [
    "import gurobipy as gp\n",
    "from gurobipy import GRB"
   ]
  },
  {
   "cell_type": "code",
   "execution_count": 2,
   "id": "15ba46b7-5dff-4d31-934e-8092275c4a20",
   "metadata": {},
   "outputs": [],
   "source": [
    "gates = ['1','2','3','4','5','6','7']\n",
    "\n",
    "gates47 = ['4','5','6','7']\n",
    "\n",
    "rows = ['1','2','3','4']\n",
    "\n",
    "rows, valueA, valueB = gp.multidict({\n",
    "    1: [0, 0],\n",
    "    2: [0, 1],\n",
    "    3: [1, 0],\n",
    "    4: [1, 1]\n",
    "})"
   ]
  },
  {
   "cell_type": "markdown",
   "id": "dab67054-c1d4-47cf-b950-f6b27166c120",
   "metadata": {},
   "source": [
    "### Model deployment"
   ]
  },
  {
   "cell_type": "code",
   "execution_count": 3,
   "id": "7a20af1b-e456-42f8-8349-3f9e5b812395",
   "metadata": {},
   "outputs": [
    {
     "name": "stdout",
     "output_type": "stream",
     "text": [
      "Set parameter Username\n"
     ]
    }
   ],
   "source": [
    "model = gp.Model('logicalDesign')"
   ]
  },
  {
   "cell_type": "markdown",
   "id": "73829fc7-686f-45de-97b6-f8d7cbb25ad8",
   "metadata": {},
   "source": [
    "### Variables\n",
    "\n",
    "#### Decision variables:\n",
    "\n",
    "$\\text{NOR}_{i} \\in \\{0,1 \\}$: This binary variable is equal to 1 if NOR gate $i$  is selected, and 0 otherwise.\n",
    "\n",
    "$\\text{inputA}_{i} \\in \\{0,1 \\}$: This binary variable is equal to 1 if external input A is an input to NOR gate $i$ , and 0 otherwise.\n",
    "\n",
    "$\\text{inputB}_{i} \\in \\{0,1 \\}$: This binary variable is equal to 1 if external input B is an input to NOR gate $i$ , and 0 otherwise.\n",
    "\n",
    "#### Supplementary variables:\n",
    "\n",
    "$\\text{output}_{i,r} \\in \\{0,1 \\}$: This binary variable is the output from gate $i$ for the combination of external input signals specified  in row $r$  of the truth table."
   ]
  },
  {
   "cell_type": "code",
   "execution_count": 4,
   "id": "16c335f3-da49-4502-b3fe-3b6deff75ab3",
   "metadata": {},
   "outputs": [],
   "source": [
    "NOR = model.addVars(gates, vtype=GRB.BINARY, name=\"NORgate\" )\n",
    "\n",
    "inputA = model.addVars(gates, vtype=GRB.BINARY, name=\"inputA\")\n",
    "inputB = model.addVars(gates, vtype=GRB.BINARY, name=\"inputB\")\n",
    "\n",
    "output = model.addVars(gates, rows, vtype=GRB.BINARY, name=\"output\")"
   ]
  },
  {
   "cell_type": "markdown",
   "id": "b2a34f13-5444-4eb3-97ff-468310d86783",
   "metadata": {},
   "source": [
    "### Constraints\n",
    "\n",
    "#### Mechanical constraints:\n",
    "\n",
    "**External input**: A NOR gate can only have an external input if it exists.\n",
    "\n",
    "\\begin{equation}\n",
    "\\text{NOR}_{i} \\geq \\text{inputA}_{i}  \\quad \\forall i \\in \\text{Gates}\n",
    "\\end{equation}\n",
    "\n",
    "\\begin{equation}\n",
    "\\text{NOR}_{i} \\geq \\text{inputB}_{i}  \\quad \\forall i \\in \\text{Gates}\n",
    "\\end{equation}\n",
    "\n",
    "**NOR gates**:If a NOR gate has one (or two) external inputs leading into it, only one (or no) NOR gates can feed into it. \n",
    "\n",
    "\\begin{equation}\n",
    "\\text{NOR}_{2} + \\text{NOR}_{3} + \\text{inputA}_{1} + \\text{inputB}_{2} \\leq 2\n",
    "\\end{equation}\n",
    "\n",
    "\\begin{equation}\n",
    "\\text{NOR}_{4} + \\text{NOR}_{5} + \\text{inputA}_{2} + \\text{inputB}_{2} \\leq 2\n",
    "\\end{equation}\n",
    "\n",
    "\\begin{equation}\n",
    "\\text{NOR}_{6} + \\text{NOR}_{7} + \\text{inputA}_{3} + \\text{inputB}_{3} \\leq 2\n",
    "\\end{equation}\n",
    "\n",
    "**Output signals**: The output signal from NOR gate $i$ must be the correct logical function (NOR) of the input signals into gate $i$, if gate $i$ exists. \n",
    "\n",
    "\\begin{equation}\n",
    "\\text{output}_{2,r} + \\text{output}_{1,r} \\leq 1 \\quad \\forall r \\in \\text{Rows}\n",
    "\\end{equation}\n",
    "\n",
    "\\begin{equation}\n",
    "\\text{output}_{3,r} + \\text{output}_{1,r} \\leq 1 \\quad \\forall r \\in \\text{Rows}\n",
    "\\end{equation}\n",
    "\n",
    "\\begin{equation}\n",
    "\\text{valueA}_{i,r}*\\text{inputA}_{i} + \\text{output}_{i,r} \\leq 1 \\quad \\forall i \\in \\text{Gates}, r \\in \\text{Rows}\n",
    "\\end{equation}\n",
    "\n",
    "\\begin{equation}\n",
    "\\text{valueB}_{i,r}*\\text{inputB}_{i} + \\text{output}_{i,r} \\leq 1 \\quad \\forall i \\in \\text{Gates}, r \\in \\text{Rows}\n",
    "\\end{equation}\n",
    "\n",
    "\\begin{equation}\n",
    "\\text{valueA}_{i,r}*\\text{inputA}_{i} + \\text{valueB}_{i,r}*\\text{inputB}_{i} + \n",
    "\\text{output}_{i,r} - \\text{NOR}_{i}  \\geq 0 \\quad \\forall i \\in \\text{G47}, r \\in \\text{Rows}\n",
    "\\end{equation}\n",
    "\n",
    "\\begin{equation}\n",
    "\\text{valueA}_{1,r}*\\text{inputA}_{1} + \\text{valueB}_{1,r}*\\text{inputB}_{1} + \n",
    "\\text{output}_{2,r} + \\text{output}_{3,r} + \\text{output}_{1,r} - \\text{NOR}_{1}  \\geq 0 \n",
    "\\quad \\forall r \\in \\text{Rows}\n",
    "\\end{equation}\n",
    "\n",
    "\\begin{equation}\n",
    "\\text{valueA}_{2,r}*\\text{inputA}_{2} + \\text{valueB}_{2,r}*\\text{inputB}_{2} + \n",
    "\\text{output}_{4,r} + \\text{output}_{5,r} + \\text{output}_{2,r} - \\text{NOR}_{2}  \\geq 0 \n",
    "\\quad \\forall r \\in \\text{Rows}\n",
    "\\end{equation}\n",
    "\n",
    "\\begin{equation}\n",
    "\\text{valueA}_{3,r}*\\text{inputA}_{3} + \\text{valueB}_{3,r}*\\text{inputB}_{3} + \n",
    "\\text{output}_{6,r} + \\text{output}_{7,r} + \\text{output}_{3,r} - \\text{NOR}_{3}  \\geq 0 \n",
    "\\quad \\forall r \\in \\text{Rows}\n",
    "\\end{equation}\n",
    "\n",
    "Note that the two constraints above define several pieces of structural information:\n",
    "* Which gates input into which other gates\n",
    "* Each gate takes at most two inputs between A, B, and output from other gates.  (If only one input is given to a gate, the other input is 0.)"
   ]
  },
  {
   "cell_type": "code",
   "execution_count": 5,
   "id": "0fea4066-4b9c-4297-b5ac-0a3122c8ecce",
   "metadata": {},
   "outputs": [],
   "source": [
    "# External inputs constraints\n",
    "externalInputsA = model.addConstrs( ( NOR[i] >= inputA[i]  for i in gates), name='externalInputsA')\n",
    "externalInputsB = model.addConstrs( ( NOR[i] >= inputB[i]  for i in gates), name='externalInputsB')\n",
    "\n",
    "# Gate and output signals constraints\n",
    "gateOutput = model.addConstrs( (NOR[i] - output[i, r] >= 0 for i in gates for r in rows) , name='gateOutput')\n",
    "\n",
    "# NOR gates constraints\n",
    "NORgate1 = model.addConstr(NOR['2'] + NOR['3'] + inputA['1'] + inputB['1'] <= 2, name='NORgate1')\n",
    "NORgate2 = model.addConstr(NOR['4'] + NOR['5'] + inputA['2'] + inputB['2'] <= 2, name='NORgate2')\n",
    "NORgate3 = model.addConstr(NOR['6'] + NOR['7'] + inputA['3'] + inputB['3'] <= 2, name='NORgate3')"
   ]
  },
  {
   "cell_type": "code",
   "execution_count": 6,
   "id": "474cdc29-6e14-41e9-87c4-7ca360af5e3e",
   "metadata": {},
   "outputs": [],
   "source": [
    "# Output signal constraint\n",
    "outputSignals1_1 = model.addConstrs( (output['2',r] + output['1',r] <= 1 for r in rows), name='outputSignals1_1' )\n",
    "outputSignals1_2 = model.addConstrs( (output['3',r] + output['1',r] <= 1 for r in rows), name='outputSignals1_2' )\n",
    "outputSignals2_1 = model.addConstrs( (output['4',r] + output['2',r] <= 1 for r in rows), name='outputSignals2_1' )\n",
    "outputSignals2_2 = model.addConstrs( (output['5',r] + output['2',r] <= 1 for r in rows), name='outputSignals2_2' )\n",
    "outputSignals3_1 = model.addConstrs( (output['6',r] + output['3',r] <= 1 for r in rows), name='outputSignals3_1' )\n",
    "outputSignals3_2 = model.addConstrs( (output['7',r] + output['3',r] <= 1 for r in rows), name='outputSignals3_2' )\n",
    "\n",
    "\n",
    "outputSignals4 = model.addConstrs( (valueA[r]*inputA[i] + output[i,r] <= 1 for i in gates for r in rows), name='outputSignals4')\n",
    "outputSignals5 = model.addConstrs( (valueB[r]*inputB[i] + output[i,r] <= 1 for i in gates for r in rows), name='outputSignals5')\n",
    "outputSignals6 = model.addConstrs( (valueA[r]*inputA[i] + valueB[r]*inputB[i] + output[i,r] - NOR[i] >= 0 \n",
    "                                    for i in gates for r in rows if i in gates47), name='outputSignals6')\n",
    "outputSignals7 = model.addConstrs( (valueA[r]*inputA['1'] + valueB[r]*inputB['1'] \n",
    "                                    + output['2',r] + output['3',r] + output['1',r] - NOR['1'] >= 0\n",
    "                                    for i in gates for r in rows), name='outputSignals7')\n",
    "outputSignals8 = model.addConstrs( (valueA[r]*inputA['2'] + valueB[r]*inputB['2'] \n",
    "                                    + output['4',r] + output['5',r] + output['2',r] - NOR['2'] >= 0\n",
    "                                    for i in gates for r in rows), name='outputSignals8')\n",
    "outputSignals9 = model.addConstrs( (valueA[r]*inputA['3'] + valueB[r]*inputB['3'] \n",
    "                                    + output['6',r] + output['7',r] + output['3',r] - NOR['3'] >= 0\n",
    "                                    for i in gates for r in rows), name='outputSignals9')"
   ]
  },
  {
   "cell_type": "markdown",
   "id": "c3999708-771a-4060-aaf1-a3420200da7e",
   "metadata": {},
   "source": [
    "#### Programmatic constraints:\n",
    "\n",
    "**Gate 1**: For NOR gate 1, the output variables are fixed at the values specified in the truth table. \n",
    "\n",
    "\\begin{equation}\n",
    "\\text{output}_{1,1} = 0, \\text{output}_{1,2} = 1, \\text{output}_{1,3} = 1,  \\text{output}_{1,4} = 0   \n",
    "\\end{equation}\n",
    "\n",
    "**Trivial solution**: To avoid a trivial solution containing no NOR gates, it is necessary to impose a constraint that selects NOR gate 1.\n",
    "\n",
    "\\begin{equation}\n",
    "\\text{NOR}_{1} \\geq 1  \n",
    "\\end{equation}"
   ]
  },
  {
   "cell_type": "code",
   "execution_count": 7,
   "id": "519b9bff-9660-4fec-98d8-28e550044ded",
   "metadata": {},
   "outputs": [],
   "source": [
    "# For NOR gate 1, the output variables are fixed at the values specified in the truth table.\n",
    "output['1',1].ub = 0\n",
    "output['1',2].lb = 1\n",
    "output['1',3].lb = 1\n",
    "output['1',4].ub = 0\n",
    "\n",
    "# In order to avoid a trivial solution containing no NOR gates, it is necessary to impose a constraint \n",
    "# that selects NOR gate 1.\n",
    "NOR['1'].lb = 1"
   ]
  },
  {
   "cell_type": "markdown",
   "id": "f7349369-b9a6-4128-b319-834aaa34a6c1",
   "metadata": {},
   "source": [
    "### Objective function\n",
    "\n",
    "**Number of gates**: The objective is to minimize the number of NOR gates selected.\n",
    "\n",
    "\\begin{equation}\n",
    "\\text{Minimize} \\quad  \\sum_{i \\in \\text{Gates}} \\text{NOR}_{i}\n",
    "\\end{equation}"
   ]
  },
  {
   "cell_type": "code",
   "execution_count": 8,
   "id": "a63e20fe-9172-4379-9ed0-fdc09212d722",
   "metadata": {},
   "outputs": [],
   "source": [
    "# Objective function.\n",
    "model.setObjective(NOR.sum(), GRB.MINIMIZE)"
   ]
  },
  {
   "cell_type": "code",
   "execution_count": 9,
   "id": "0316c11a-3a29-4d50-a2f5-24d32147c115",
   "metadata": {},
   "outputs": [
    {
     "name": "stdout",
     "output_type": "stream",
     "text": [
      "Gurobi Optimizer version 11.0.3 build v11.0.3rc0 (mac64[arm] - Darwin 23.5.0 23F79)\n",
      "\n",
      "CPU model: Apple M2\n",
      "Thread count: 8 physical cores, 8 logical processors, using up to 8 threads\n",
      "\n",
      "Optimize a model with 225 rows, 49 columns and 696 nonzeros\n",
      "Model fingerprint: 0xfb7e2b7f\n",
      "Variable types: 0 continuous, 49 integer (49 binary)\n",
      "Coefficient statistics:\n",
      "  Matrix range     [1e+00, 1e+00]\n",
      "  Objective range  [1e+00, 1e+00]\n",
      "  Bounds range     [1e+00, 1e+00]\n",
      "  RHS range        [1e+00, 2e+00]\n",
      "Presolve removed 225 rows and 49 columns\n",
      "Presolve time: 0.00s\n",
      "Presolve: All rows and columns removed\n",
      "\n",
      "Explored 0 nodes (0 simplex iterations) in 0.00 seconds (0.00 work units)\n",
      "Thread count was 1 (of 8 available processors)\n",
      "\n",
      "Solution count 1: 5 \n",
      "\n",
      "Optimal solution found (tolerance 1.00e-04)\n",
      "Best objective 5.000000000000e+00, best bound 5.000000000000e+00, gap 0.0000%\n"
     ]
    }
   ],
   "source": [
    "# Verify model formulation\n",
    "model.write('logicalDesign.lp')\n",
    "\n",
    "# Run optimization engine\n",
    "model.optimize()"
   ]
  },
  {
   "cell_type": "code",
   "execution_count": 10,
   "id": "ab44019e-3d3d-4516-9f15-06e53e7b0d52",
   "metadata": {},
   "outputs": [],
   "source": [
    "model.write('logicalDesign.sol')"
   ]
  },
  {
   "cell_type": "code",
   "execution_count": 17,
   "id": "8a170de6-8f46-4f1a-90b0-96cb271e471b",
   "metadata": {},
   "outputs": [
    {
     "name": "stdout",
     "output_type": "stream",
     "text": [
      "\n",
      "\n",
      "_________________________________________________________________________________\n",
      "The optimal circuit design:\n",
      "_________________________________________________________________________________\n",
      "NOR gate 1 is active.\n",
      "NOR gate 2 is active.  Input A is, and Input B is, an input to the gate.\n",
      "NOR gate 3 is active.\n",
      "NOR gate 6 is active.  Input A is not, and Input B is, an input to the gate.\n",
      "NOR gate 7 is active.  Input A is, and Input B is not, an input to the gate.\n"
     ]
    }
   ],
   "source": [
    "# Output reports\n",
    "print(\"\\n\\n_________________________________________________________________________________\")\n",
    "print(f\"The optimal circuit design:\")\n",
    "print(\"_________________________________________________________________________________\")\n",
    "for i in gates:\n",
    "    if (NOR[i].x > 0.5):\n",
    "        if (inputA[i].x + inputB[i].x > 0.5):\n",
    "            print(\"NOR gate\", i, \"is active.  Input A {incA}, and Input B {incB}, an input to the gate.\"\n",
    "                  .format(incA = 'is' if inputA[i].x else 'is not', incB = 'is' if inputB[i].x else 'is not'))\n",
    "        else:\n",
    "            print(f\"NOR gate {i} is active.\")\n",
    "\n"
   ]
  },
  {
   "cell_type": "code",
   "execution_count": null,
   "id": "bc686954-49cd-4535-bc34-1b50da3bbd99",
   "metadata": {},
   "outputs": [],
   "source": []
  }
 ],
 "metadata": {
  "kernelspec": {
   "display_name": "Python 3 (ipykernel)",
   "language": "python",
   "name": "python3"
  },
  "language_info": {
   "codemirror_mode": {
    "name": "ipython",
    "version": 3
   },
   "file_extension": ".py",
   "mimetype": "text/x-python",
   "name": "python",
   "nbconvert_exporter": "python",
   "pygments_lexer": "ipython3",
   "version": "3.12.4"
  }
 },
 "nbformat": 4,
 "nbformat_minor": 5
}
