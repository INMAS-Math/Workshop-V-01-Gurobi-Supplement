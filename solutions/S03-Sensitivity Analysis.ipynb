{
 "cells": [
  {
   "cell_type": "markdown",
   "id": "bd5629e9-e594-476d-9897-a658a74c09cf",
   "metadata": {},
   "source": [
    "<img src=\"images/Picture0.png\" width=200x />\n",
    "\n",
    "# Notebook 03 - Sensitivity Analysis\n",
    "\n",
    "### Covered in this notebook:\n",
    "* Introduction to sensitivity analysis:\n",
    "    * Dual price or shadow price\n",
    "    * Reduced cost\n",
    "    * Slack\n",
    "\n",
    "### Credits:\n",
    "* [Shadow price and reduced cost](https://www.or-as.be/blog/tsbd_sp), article by Mario Vanhoucke for OR-AS\n",
    "* [Optimization course notes](https://theory.stanford.edu/~trevisan/cs261/lecture06.pdf) by Luca Trevisan at Stanford University\n",
    "* Gurobi support and resources"
   ]
  },
  {
   "cell_type": "code",
   "execution_count": 1,
   "id": "afc5ad02-c694-41d6-bb63-742826347c18",
   "metadata": {},
   "outputs": [],
   "source": [
    "import gurobipy as gp\n",
    "from gurobipy import GRB"
   ]
  },
  {
   "cell_type": "markdown",
   "id": "9d540353-e974-417b-88b4-3513099edfa2",
   "metadata": {},
   "source": [
    "## Sensitivity Analysis\n",
    "\n",
    "Let's take a moment to discuss an important topic to LP problems.  From a human standpoint, finding the solution to our optimization problem is often only the beginning in terms of practical solutions.  We will still have much to discuss sorting out particulars.  What if our material costs are too high for shareholders?  What if a supplier's availability changes?  What if a material we would like to include was deemed too inefficient for optimality?  We will want to know what happens to our solution if we adjust our inputs, and it is useful not to have to run our model again and again to figure these things out.\n",
    "\n",
    "<strong>Sensitivity analysis</strong> measures the solution's response to changes in the problem: how \"sensitive\" our solution is.  Gurobi provides us with quite a bit of additional information about our problem; let's discuss some of the relevant pieces.\n",
    "\n",
    "### Dual Price\n",
    "\n",
    "The <strong>dual price</strong> or <strong>shadow price</strong> of a constraint refers to the change in the objective value for each unit change in the constraint's right-hand side.  (If we are optimizing $f()$ subject to $g()>=c$, the shadow price gives the change in $f()$ when $c$ is increased by $1$.)  We retrieve shadow price by querying the `Pi` attribute of our constraint; we can query the individual restraint if we gave it a name or assigned it to a variable, or we can retrieve the shadow prices of all constraints in our model in the order they were added by calling `getAttr('Pi')` on the model itself.\n",
    "\n",
    "<i>(Note for interested individuals: Gurobi computes and can deliver the [dual](https://theory.stanford.edu/~trevisan/cs261/lecture06.pdf) of your program by writing the model to a DLP or DUA file.  More about reading/writing models in Notebook 05.)</i>\n",
    "\n",
    "### Reduced cost\n",
    "\n",
    "Suppose our optimal solution occurs when one or more of our variables takes a zero value.  The <strong>reduced cost</strong> informs us of the amount by which the variable's objective function parameter would need to improve for the variable to take a positive value in the optimal solution.\n",
    "\n",
    "The reduced cost is equivalent to the shadow price of the variable's nonnegativity constraint; that is, if we are optimizing $f()$ subject to $x>= 0$, then the reduced cost gives the change in $f()$ when the constraint is changed to $x>=1$.  If we require $x$ to be present in our optimal solution, how much does this cost our optimality?  And since our problem is linear, we can also think of this as the amount by which the coefficient of $x$ would need to improve (increase or decrease, depending on our objective sense) for $x$ to appear in our solution, to be \"cheaper\" than the variables which are present already.  The reduced cost of a variable is given by its `RC` attribute.\n",
    "\n",
    "### Slack\n",
    "\n",
    "A <strong>binding</strong> constraint is one which is involved in our optimal solution; changing the right-hand side of such a constraint would change the value of the optimal solution.  Not all constraints are necessarily binding, and nonbinding constraints have some <strong>slack</strong>: defined as the difference between the actual usage or production and the imposed limits on usage or production, slack tells us how much we could increase or decrease the constraint's right-hand side before impacting our optimal solution.  It tells us what is \"left over\" after applying the constraint.  Naturally, slack is zero for binding constraints and nonzero for nonbinding constraints.  A constraint's slack is given by its `Slack` attribute.\n",
    "\n",
    "Let's analyze the following problem under a sensitivity analysis.\n",
    "\n",
    "## Exercise: Power Grid\n",
    "\n",
    "You manage the electric company Midwest PG.  The grid draws power from five sources: a nuclear plant, a coal plant, a solar plant, a wind farm, and a hydroelectric dam.  Power flows into three hubs before it is then routed to its end destination.  Each source has a limited supply of power, while each hub has a minimum demand.  Not every source is connected to every hub, and there is a cost to delivering energy which is based on the length of the power line.  The system is depicted below:\n",
    "\n",
    "<img src=\"images/N03_images/powerGrid.png\">\n",
    "\n",
    "Your team and your shareholders have some questions about your operation.  Solve the system for the optimal solution, then use that information to respond to the questions."
   ]
  },
  {
   "cell_type": "code",
   "execution_count": 2,
   "id": "f3393309-3285-4e18-9754-608337d1d483",
   "metadata": {},
   "outputs": [
    {
     "name": "stdout",
     "output_type": "stream",
     "text": [
      "Set parameter Username\n"
     ]
    }
   ],
   "source": [
    "# instantiate model\n",
    "m = gp.Model(\"Power Grid\")"
   ]
  },
  {
   "cell_type": "code",
   "execution_count": 3,
   "id": "123544cc-538a-4b7d-b6f1-bc1db7da0806",
   "metadata": {},
   "outputs": [],
   "source": [
    "# add variables to represent power from each source to each hub\n",
    "n1 = m.addVar(obj=4, name='n1')\n",
    "n2 = m.addVar(obj=5, name='n2')\n",
    "c1 = m.addVar(obj=3, name='c1')\n",
    "c2 = m.addVar(obj=2, name='c2')\n",
    "s1 = m.addVar(obj=2, name='s1')\n",
    "s3 = m.addVar(obj=6, name='s3')\n",
    "w2 = m.addVar(obj=4, name='w2')\n",
    "w3 = m.addVar(obj=3, name='w3')"
   ]
  },
  {
   "cell_type": "code",
   "execution_count": 4,
   "id": "802c989a-e522-4121-8e41-65cba5b32580",
   "metadata": {},
   "outputs": [
    {
     "data": {
      "text/plain": [
       "<gurobi.Constr *Awaiting Model Update*>"
      ]
     },
     "execution_count": 4,
     "metadata": {},
     "output_type": "execute_result"
    }
   ],
   "source": [
    "# add constraints:\n",
    "# sources limited\n",
    "m.addConstr(n1 + n2 == 1500, name='nuclear')\n",
    "m.addConstr(c1 + c2 == 3000, name='coal')\n",
    "m.addConstr(s1 + s3 == 2400, name='solar')\n",
    "m.addConstr(w2 + w3 == 1800, name='wind')"
   ]
  },
  {
   "cell_type": "code",
   "execution_count": 5,
   "id": "059bf58b-6fe3-4935-a6da-cb45b6d117e8",
   "metadata": {},
   "outputs": [
    {
     "data": {
      "text/plain": [
       "<gurobi.Constr *Awaiting Model Update*>"
      ]
     },
     "execution_count": 5,
     "metadata": {},
     "output_type": "execute_result"
    }
   ],
   "source": [
    "# add constraints:\n",
    "# hubs must meet demand\n",
    "m.addConstr(n1 + c1 + s1 >= 2400, name='hub1')\n",
    "m.addConstr(n2 + c2 + w2 >= 1600, name='hub2')\n",
    "m.addConstr(s3 + w3 >= 2000, name='hub3') ##"
   ]
  },
  {
   "cell_type": "code",
   "execution_count": 6,
   "id": "db5b9490-8fc8-4559-afa8-b0e02310b9a3",
   "metadata": {},
   "outputs": [
    {
     "name": "stdout",
     "output_type": "stream",
     "text": [
      "Gurobi Optimizer version 11.0.3 build v11.0.3rc0 (mac64[arm] - Darwin 23.5.0 23F79)\n",
      "\n",
      "CPU model: Apple M2\n",
      "Thread count: 8 physical cores, 8 logical processors, using up to 8 threads\n",
      "\n",
      "Optimize a model with 7 rows, 8 columns and 16 nonzeros\n",
      "Model fingerprint: 0x12bbdc75\n",
      "Coefficient statistics:\n",
      "  Matrix range     [1e+00, 1e+00]\n",
      "  Objective range  [2e+00, 6e+00]\n",
      "  Bounds range     [0e+00, 0e+00]\n",
      "  RHS range        [2e+03, 3e+03]\n",
      "Presolve removed 4 rows and 4 columns\n",
      "Presolve time: 0.01s\n",
      "Presolved: 3 rows, 4 columns, 8 nonzeros\n",
      "\n",
      "Iteration    Objective       Primal Inf.    Dual Inf.      Time\n",
      "       0    2.2991196e+04   2.751250e-01   0.000000e+00      0s\n",
      "       1    2.3000000e+04   0.000000e+00   0.000000e+00      0s\n",
      "\n",
      "Solved in 1 iterations and 0.01 seconds (0.00 work units)\n",
      "Optimal objective  2.300000000e+04\n"
     ]
    }
   ],
   "source": [
    "m.optimize()"
   ]
  },
  {
   "cell_type": "code",
   "execution_count": 7,
   "id": "092cebf4-1125-4ca2-8ea3-2e4b4a7c52b2",
   "metadata": {},
   "outputs": [
    {
     "name": "stdout",
     "output_type": "stream",
     "text": [
      "n1 = 1500.0\n",
      "n2 = 0.0\n",
      "c1 = 0.0\n",
      "c2 = 3000.0\n",
      "s1 = 2200.0\n",
      "s3 = 200.0\n",
      "w2 = 0.0\n",
      "w3 = 1800.0\n",
      "\n",
      "n1 reduced cost = 0.0\n",
      "n2 reduced cost = 1.0\n",
      "c1 reduced cost = 1.0\n",
      "c2 reduced cost = 0.0\n",
      "s1 reduced cost = 0.0\n",
      "s3 reduced cost = 0.0\n",
      "w2 reduced cost = 5.0\n",
      "w3 reduced cost = 0.0\n",
      "\n",
      "nuclear slack = 0.0\n",
      "coal slack = 0.0\n",
      "solar slack = 0.0\n",
      "wind slack = 0.0\n",
      "hub1 slack = -1300.0\n",
      "hub2 slack = -1400.0\n",
      "hub3 slack = 0.0\n",
      "\n",
      "nuclear shadow price = 4.0\n",
      "coal shadow price = 2.0\n",
      "solar shadow price = 2.0\n",
      "wind shadow price = -1.0\n",
      "hub1 shadow price = 0.0\n",
      "hub2 shadow price = 0.0\n",
      "hub3 shadow price = 4.0\n",
      "\n",
      "total expenses: 23000.0\n"
     ]
    }
   ],
   "source": [
    "for v in m.getVars():\n",
    "    print(v.varName, '=', v.x)\n",
    "\n",
    "print()\n",
    "\n",
    "for v in m.getVars():\n",
    "    print(v.varName, 'reduced cost =', v.RC)\n",
    "\n",
    "print()\n",
    "\n",
    "for c in m.getConstrs():\n",
    "    print(c.constrName, 'slack =', c.Slack)\n",
    "\n",
    "print()\n",
    "\n",
    "for c in m.getConstrs():\n",
    "    print(c.constrName, 'shadow price =', c.Pi)\n",
    "\n",
    "print()\n",
    "\n",
    "print('total expenses:', m.objVal)"
   ]
  },
  {
   "cell_type": "markdown",
   "id": "277891ae-7e06-4956-be9e-0055cbe1a381",
   "metadata": {},
   "source": [
    "### Questions:\n",
    "\n",
    "#### Shadow price\n",
    "1. Which of our hubs is the most expensive to serve?\n",
    "2. Which energy source(s) should Midwest PG invest in to decrease expenses in the future?\n",
    "3. Historically, Hub 2 has seen an increase in demand of 400 units during football weekends.  What does this increase in demand cost us?\n",
    "\n",
    "#### Reduced cost\n",
    "1. Midwest PG wants to upgrade lines to bring down their carriage costs.  Which lines most need to be improved?\n",
    "2. What would we need to bring their carriage costs down to in order to make those lines competitive?\n",
    "3. Are there any lines we need to close outright?\n",
    "\n",
    "#### Slack\n",
    "1. Are we free to reduce production at any of our locations?\n",
    "2. If Midwest PG were considering serving a new hub, could we do so on our existing infrastructure?"
   ]
  },
  {
   "cell_type": "markdown",
   "id": "6dbe3e2f-4d2e-449b-98f6-fbaaa0717074",
   "metadata": {},
   "source": [
    "### Answers:\n",
    "1. Hub 3\n",
    "2. Wind\n",
    "3. 800 currency\n",
    "\n",
    "1. n1, n2, w2\n",
    "2. 3, 2, -2\n",
    "3. w2\n",
    "\n",
    "1. nuclear and coal\n",
    "2. yes"
   ]
  }
 ],
 "metadata": {
  "kernelspec": {
   "display_name": "Python 3 (ipykernel)",
   "language": "python",
   "name": "python3"
  },
  "language_info": {
   "codemirror_mode": {
    "name": "ipython",
    "version": 3
   },
   "file_extension": ".py",
   "mimetype": "text/x-python",
   "name": "python",
   "nbconvert_exporter": "python",
   "pygments_lexer": "ipython3",
   "version": "3.12.4"
  }
 },
 "nbformat": 4,
 "nbformat_minor": 5
}
