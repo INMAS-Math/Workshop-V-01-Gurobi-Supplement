{
 "cells": [
  {
   "cell_type": "markdown",
   "id": "97baef94-d002-4abf-8574-f1c45d248215",
   "metadata": {},
   "source": [
    "<img src=\"images/Picture0.png\" width=200x />\n",
    "\n",
    "# Notebook 07 - Logical Design\n",
    "\n",
    "### Covered in this notebook:\n",
    "* Modeling and algorithm\n",
    "\n",
    "### Credits:\n",
    "* [Gurobi modeling examples](https://gurobi.github.io/modeling-examples/): [Logical design](https://gurobi.github.io/modeling-examples/logical_design/)\n",
    "* The example below is taken from the Gurobi modeling examples Github, which took the example in turn from Model Building in Mathematical Programming Fifth Edition by Paul H. Williams.  No credit is claimed for text, code, or algorithm.  Alterations occur in phrasing, order of information, and slight tweaks to written code."
   ]
  },
  {
   "cell_type": "markdown",
   "id": "03392c8b-bb93-4b23-ab2a-140319601ae3",
   "metadata": {},
   "source": [
    "## Introduction\n",
    "\n",
    "A <i>logical circuit</i> is a system with a given number of inputs and one output.  When impulses are applied to the inputs of the circuit, it responds by giving either an output (signal 1) or no output (signal 0).  The input impulses are characterized in the same way as the inputs: positive input (signal 1) or no input (signal 0).\n",
    "\n",
    "In this example, a logical circuit is to be built using only <i>NOR gates</i>.  A NOR gate is a device with two inputs and one output, and which has the property that there is a positive output (signal 1) if and only if neither input is positive.  By connecting such gates in combination, it is possible to construct a circuit to perform any desired logical function.\n",
    "\n",
    "For example, the circuit illustrated in the following figure will respond to the inputs A and B in the way indicated by the truth table.  (Unlabeled inputs are 0.)\n",
    "\n",
    "<img src=\"images/N07_images/circuit.png\"/>\n",
    "\n",
    "<strong>The objective</strong> is to construct a circuit using the minimum number of NOR gates that will perform the logical function specified by the following truth table:\n",
    "\n",
    "| A | B | Output |\n",
    "| --- | --- | --- | \n",
    "| 0 | 0 | 0 |\n",
    "| 0 | 1 | 1 |\n",
    "| 1 | 0 | 1 |\n",
    "| 1 | 1 | 0 |\n",
    "\n",
    "Each output from a NOR gate must lead into exactly one input into another NOR gate.  It may be assumed that the optimal design is a \"subnet\" of the \"maximal\" net shown in the following figure.\n",
    "\n",
    "<img src=\"images/N07_images/subnet.png\"/>"
   ]
  },
  {
   "cell_type": "markdown",
   "id": "9e63d1c1-03ae-4db5-bf60-86ef3378b102",
   "metadata": {},
   "source": [
    "## Model formulation\n",
    "\n",
    "Begin brainstorming your model formulation.  Hints to one solution are included below, suggesting:\n",
    "\n",
    "* The input data required by your program\n",
    "* The decision variables of the problem\n",
    "* Supplementary variables to parametrize the problem constraints\n",
    "* The objective function of the problem\n",
    "\n",
    "Write your algorithm on your own, but feel free to check your model against this framework before coding if you are not sure you have covered all cases."
   ]
  },
  {
   "cell_type": "markdown",
   "id": "644924cc-1064-4c4b-99f6-8f1645e8559b",
   "metadata": {},
   "source": [
    "### Input data:\n",
    "\n",
    "We will need to define some input data for the model, including:\n",
    "\n",
    "* The values taken by A and B in each row of the truth table\n",
    "* Which gates are present\n",
    "* Which gates input into which other gates\n",
    "\n",
    "### Decision variables:\n",
    "\n",
    "The model depends on the following variables:\n",
    "\n",
    "* Is a given gate selected as part of the system?\n",
    "* Is input A an input into a given gate?  Is input B?\n",
    "\n",
    "### Supplementary variables:\n",
    "\n",
    "The following variable will also be useful to define, to create our framework:\n",
    "\n",
    "* The output of a given gate\n",
    "\n",
    "### Constraints:\n",
    "\n",
    "We are subject to the following constraints:\n",
    "\n",
    "* Mechanical constraints (defining the system's functionality):\n",
    "    * Each gate takes at most two inputs between A, B, and output from other gates.  (If only one input is given to a gate, the other input is 0.)\n",
    "    * Each gate gives exactly one output.\n",
    "    * A gate's output is 1 if and only if both inputs are 0.\n",
    "* Programmatic constraints:\n",
    "    * The output of gate 1 must be according to the truth table.\n",
    "    * The solution must be nontrivial (at least one gate must be active)."
   ]
  },
  {
   "cell_type": "markdown",
   "id": "c7036449-2b22-4e85-b407-763948f7bb7f",
   "metadata": {},
   "source": [
    "Execute your code below.  See [the solution notebook](S07-Logical Design.ipynb) for the complete example."
   ]
  },
  {
   "cell_type": "code",
   "execution_count": null,
   "id": "15ba46b7-5dff-4d31-934e-8092275c4a20",
   "metadata": {},
   "outputs": [],
   "source": [
    "# solve here:\n"
   ]
  }
 ],
 "metadata": {
  "kernelspec": {
   "display_name": "Python 3 (ipykernel)",
   "language": "python",
   "name": "python3"
  },
  "language_info": {
   "codemirror_mode": {
    "name": "ipython",
    "version": 3
   },
   "file_extension": ".py",
   "mimetype": "text/x-python",
   "name": "python",
   "nbconvert_exporter": "python",
   "pygments_lexer": "ipython3",
   "version": "3.12.4"
  }
 },
 "nbformat": 4,
 "nbformat_minor": 5
}
