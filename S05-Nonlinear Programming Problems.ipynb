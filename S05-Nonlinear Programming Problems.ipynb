{
 "cells": [
  {
   "cell_type": "markdown",
   "id": "9b8d3684-d9a4-4fc1-beec-76755c7202a5",
   "metadata": {},
   "source": [
    "<img src=\"images/Picture0.png\" width=200x />\n",
    "\n",
    "# Notebook 05 - Nonlinear Programming Problems and Multiple Objectives\n",
    "\n",
    "### Covered in this notebook:\n",
    "- Adding nonlinear constraints to Gurobipy models\n",
    "- Using multiple objectives in Gurobipy\n",
    "\n",
    "### Prerequisites:\n",
    "- N02, N04\n",
    "\n",
    "### Credits:\n",
    "- Gurobipy documentation\n",
    "- https://www.kaggle.com/datasets/arnavvvvv/pokemon-pokedex"
   ]
  },
  {
   "cell_type": "markdown",
   "id": "ffa1acfa-00f1-4310-8477-185e9cd7a3a5",
   "metadata": {},
   "source": [
    "We now understand the basics of the Gurobi optimizer tool.  Now, let's move on to some of its finer points.\n",
    "\n",
    "## Nonlinear programming\n",
    "\n",
    "Thus far, all of the mathematical programs we have explored have been linear.  That is, the highest power of $x$ in any of our constraint or objective equations has been $1$.  Nonlinear constraints are often far more computationally demanding; where the algorithmically straightforward simplex method is generally sufficient to solve an LP problem, NLP programs require more intensive methods.  A key preoccupation for us, therefore, will be to increase the efficiency of our code.\n",
    "\n",
    "### Built-in general constraints\n",
    "\n",
    "We are able to define constraint functions using the `addConstr` and `addConstrs` methods we've already seen by articulating an expression using overloaded operators:"
   ]
  },
  {
   "cell_type": "code",
   "execution_count": 1,
   "id": "7ef2238c-7e72-4b73-8a36-bff7cbd199e5",
   "metadata": {},
   "outputs": [],
   "source": [
    "import gurobipy as gp\n",
    "from gurobipy import GRB"
   ]
  },
  {
   "cell_type": "code",
   "execution_count": 2,
   "id": "4760c9a8-26af-4504-b30b-385193490044",
   "metadata": {},
   "outputs": [
    {
     "name": "stdout",
     "output_type": "stream",
     "text": [
      "Set parameter Username\n"
     ]
    }
   ],
   "source": [
    "# test model:\n",
    "\n",
    "n = gp.Model()\n",
    "x = n.addVar()\n",
    "y = n.addVar()\n",
    "z = n.addVar()\n",
    "c = n.addVar()"
   ]
  },
  {
   "cell_type": "code",
   "execution_count": 3,
   "id": "aa482973-9b79-4eeb-8bcb-efe0fca6c16b",
   "metadata": {},
   "outputs": [
    {
     "data": {
      "text/plain": [
       "<gurobi.QConstr Not Yet Added>"
      ]
     },
     "execution_count": 3,
     "metadata": {},
     "output_type": "execute_result"
    }
   ],
   "source": [
    "# x*y <= z\n",
    "n.addConstr(x*y <= z)\n",
    "\n",
    "# x^2 == 1\n",
    "n.addConstr(x**2 == 1)"
   ]
  },
  {
   "cell_type": "code",
   "execution_count": 4,
   "id": "ff57b035-0d0c-46fa-8b4d-b6c42d213fd5",
   "metadata": {},
   "outputs": [],
   "source": [
    "# try the following: x*y*z <= 1\n"
   ]
  },
  {
   "cell_type": "markdown",
   "id": "bb2b0ca8-7974-4c65-9578-0e606ef88964",
   "metadata": {},
   "source": [
    "However, the `addConstr`/`addConstrs` methods restrict us to only linear or quadratic constraint types.  In addition to this, Gurobi provides built-in constraint methods for a wide range of <strong>general constraint</strong> functions, including polynomials, logarithms, exponential functions, ec.  These built-in methods transform a nonlinear constraint into a collection of fundamental constraints during presolve.  The transformations may be exact reformations or approximations, the granularity of which can be controlled by altering the model environment.\n",
    "\n",
    "The general constraints handled by Gurobi are documented [here](https://www.gurobi.com/documentation/current/refman/py_model_agc_xxx.html), each named as `Model.addGenConstrXxx()`, where \"Xxx\" represents the type of function.  While exploring this page, take particular note of the usefulness of the `addGenConstrIndicator` constraint, which allows the user to set a constraint based on the truth of an indicator variable, thus permitting if/then structures.\n",
    "\n",
    "It should be noted, however, that general function constraints are not Gurobi's strength.  The breadth of optimization applications in the real world deal with discrete data: production is discrete; people are discrete; even money is discrete, when you think about it.  Gurobi is designed with these practical applications in mind, and so we will see some limitations when using general constraints.\n",
    "\n",
    "Notice in particular that each built-in general constraint defines an equation, with no option for inequalities.  This is not as limiting as it might appear, but requires some thought: we will be required to build complex functions from successive variables and constraints to effect our desired equation when all is said and done.  Try building some general function constraints below."
   ]
  },
  {
   "cell_type": "code",
   "execution_count": 6,
   "id": "b613595e-bf98-46ab-9ae0-d2fb90750a81",
   "metadata": {},
   "outputs": [
    {
     "data": {
      "text/plain": [
       "<gurobi.GenConstr *Awaiting Model Update*>"
      ]
     },
     "execution_count": 6,
     "metadata": {},
     "output_type": "execute_result"
    }
   ],
   "source": [
    "# e ^ y = z\n",
    "n.addGenConstrExp(y, z)"
   ]
  },
  {
   "cell_type": "code",
   "execution_count": 7,
   "id": "63387101-6b37-4bbd-ac3a-a90c257d2ccb",
   "metadata": {},
   "outputs": [
    {
     "data": {
      "text/plain": [
       "<gurobi.GenConstr *Awaiting Model Update*>"
      ]
     },
     "execution_count": 7,
     "metadata": {},
     "output_type": "execute_result"
    }
   ],
   "source": [
    "# c = max(x, y, z, 1)\n",
    "n.addGenConstrMax(c, [x, y, z], 1)"
   ]
  },
  {
   "cell_type": "code",
   "execution_count": 8,
   "id": "8a20b351-1f8b-4f70-95a4-8855ae6e638b",
   "metadata": {},
   "outputs": [
    {
     "data": {
      "text/plain": [
       "<gurobi.GenConstr *Awaiting Model Update*>"
      ]
     },
     "execution_count": 8,
     "metadata": {},
     "output_type": "execute_result"
    }
   ],
   "source": [
    "# x + y = 1 / (1+exp(-z))\n",
    "d = n.addVar()\n",
    "n.update()\n",
    "n.addConstr(d == x + y)\n",
    "n.addGenConstrLogistic(z, d)"
   ]
  },
  {
   "cell_type": "code",
   "execution_count": 9,
   "id": "570bdaee-cd87-44be-bf43-dea432f5d967",
   "metadata": {},
   "outputs": [
    {
     "name": "stdout",
     "output_type": "stream",
     "text": [
      "Warning: no quadratic or higher terms for polynomial function.\n"
     ]
    },
    {
     "data": {
      "text/plain": [
       "<gurobi.QConstr Not Yet Added>"
      ]
     },
     "execution_count": 9,
     "metadata": {},
     "output_type": "execute_result"
    }
   ],
   "source": [
    "# x / (1 + y)^2 <= 16\n",
    "e = n.addVar()\n",
    "n.addGenConstrPoly(e, y, [1, 1])\n",
    "f = n.addVar()\n",
    "n.addGenConstrPow(e, f, -2)\n",
    "n.addConstr(x*f <= 16)"
   ]
  },
  {
   "cell_type": "markdown",
   "id": "c20c0182-639a-4726-95c1-0145155831ed",
   "metadata": {},
   "source": [
    "### Nonlinear objectives\n",
    "\n",
    "Gurobi has treatments for <strong>linear</strong> objectives and <strong>quadratic</strong> objectives.  (General nonlinear objectives are not permitted!)  These can be set using the `Model.setObjective()` method with which we are already familiar."
   ]
  },
  {
   "cell_type": "markdown",
   "id": "2f81d7ee-6184-4c84-82c8-5742966b1119",
   "metadata": {},
   "source": [
    "## Multiple objectives\n",
    "\n",
    "It is not uncommon in large optimization problems to juggle a variety of priorities.  You may want to minimize one element of your model while maximizing another.  Consider our earlier example treating power plants; in a more complex system, we may wish to maximize output while minimizing, say, labor requirements, or environmental cost.\n",
    "\n",
    "One approach is to frame competing obligations as constraints, but Gurobi allows us more flexibility.  We are able to write multiple objective functions and define their relative importance.  Gurobi ranks objectives through a <strong>hierarchical</strong> approach, a <strong>blended</strong> approach, or a combination of the two.\n",
    "\n",
    "### Hierarchical objectives\n",
    "\n",
    "Hierarchical objectives are treated one at a time.  The solver optimizes according to the first objective, which gives it a set of solutions.  Then, it optimizes according to the second objective within that set.  So on it goes down the list.\n",
    "\n",
    "The objectives are treated in order of their `priority`.  Priority is integral and larger values indicate higher priority.  Objectives' priorities need not be sequential.  So, if three objectives had priorities 9, 1, and 100, the solver would optimize according to the third, then the first, then the second.\n",
    "\n",
    "If two objectives have the same priority, they are treated simultaneously, using the <strong>blended</strong> approach.\n",
    "\n",
    "### Blended objectives\n",
    "\n",
    "A blended approach takes the linear combination of the objectives involved, scaled by the `weight` of each objective.  For example, given the following objectives and weights…\n",
    "\n",
    "$x + 2y + z$, weight = $1$\n",
    "\n",
    "$2x + 3z$, weight = $-3$\n",
    "\n",
    "…the solver would create the following blended objective:\n",
    "\n",
    "$(1)(x + 2y + z) + (-3)(2x + 3z) = -5x + 2y -8z$\n",
    "\n",
    "Best practices discourage using weights which are very large or very small (larger than $10^6$ or smaller than $10^{-6}$), as very large coefficients can cause numerical difficulties and very small coefficients may cause values to fall below the solver tolerances and be ignored.\n",
    "\n",
    "#### Note: Multiple-objective degradation\n",
    "\n",
    "When multiple objectives are at play, the relative importance of one to another can be difficult to precisely define.   We may find that the \"best\" solution from a human perspective is not the one which optimizes our first objective; instead, we may wish to slightly reduce optimality of one objective to greatly improve optimality of another.  With the Gurobi tool, this is known as <strong>degradation</strong>: slightly compromising on our earlier objectives to expand the pool of our solutions.  We will not implement degradation at present as it involves altering the parameters of the model, but once that topic is understood, multiple-objective degradation is quite simple to perform.\n",
    "\n",
    "### Setting multiple objectives\n",
    "\n",
    "We define multiple objectives using the method `Model.setObjectiveN()`, which takes the following arguments:\n",
    "\n",
    "* `expr`: the <strong>expression</strong>\n",
    "    * Note: when multiple objectives are set, all of the objectives must be linear.\n",
    "* `index`: the <strong>index</strong>.  Required argument; each objective's index must be a unique integer.\n",
    "    * Not to be confused with `priority`.\n",
    "* `priority=0`: the objective's <strong>priority</strong>.  Corresponds to the `ObjNPriority` attribute of the objective\n",
    "* `weight=1`: the objective's <strong>weight</strong>.  Corresponds to the `ObjNWeight` attribute of the objective\n",
    "* `abstol=1e-6`: the objective's <strong>absolute tolerance</strong>.  Used in multiple-objective degradation.\n",
    "* `reltol=0`: the objective's <strong>relative tolerance</strong>.  Used in multiple-objective degradation.\n",
    "* `name=\"\"`: an ASCII string representing the objective's <strong>name</strong>\n",
    "\n",
    "One thing we notice is that unlike `setObjective`, `setObjectiveN` does not take an optimization `sense`.  Rather, the `weight` of an objective defines whether it is maximized or minimized.  Recall that the default optimization sense of a model is minimize; then to maximize an objective, we give it a negative weight.\n",
    "\n",
    "Let's implement the above using the following example.\n",
    "\n",
    "## Exercise: Pokésquad\n",
    "\n",
    "The file `pokedex.csv` from the [Kaggle public data sets](https://www.kaggle.com/datasets/arnavvvvv/pokemon-pokedex) contains the names, types, and stats of the first generation of Pokemon.  You want to put together a team of exactly 3 pokemon with desirable HP, Attack, Defense, Special Attack, and Special Defense.  Choose how you prioritize your criteria, and create a Gurobi model to deliver your optimal team."
   ]
  },
  {
   "cell_type": "code",
   "execution_count": 10,
   "id": "d2d4f664-86ae-49f3-880d-2291443ca88e",
   "metadata": {},
   "outputs": [],
   "source": [
    "# read in csv:\n",
    "import pandas as pd\n",
    "\n",
    "pokedex = pd.read_csv('data/N06_data/pokedex.csv').set_index('Name').T.to_dict('list')"
   ]
  },
  {
   "cell_type": "code",
   "execution_count": 11,
   "id": "4c24e6ca-403a-4678-ba3e-62da546ec555",
   "metadata": {},
   "outputs": [],
   "source": [
    "p = gp.Model('Pokesquad')"
   ]
  },
  {
   "cell_type": "code",
   "execution_count": 12,
   "id": "9226fc12-5ddf-4761-9223-a857f4764f2d",
   "metadata": {},
   "outputs": [
    {
     "data": {
      "text/plain": [
       "<gurobi.Constr *Awaiting Model Update*>"
      ]
     },
     "execution_count": 12,
     "metadata": {},
     "output_type": "execute_result"
    }
   ],
   "source": [
    "# variables: all pokemon available; binary\n",
    "status = p.addVars(len(pokedex), vtype=GRB.BINARY, name=pokedex.keys())\n",
    "\n",
    "# constraints:\n",
    "# 3 pokemon in team\n",
    "p.addConstr(status.sum() == 3)"
   ]
  },
  {
   "cell_type": "code",
   "execution_count": 13,
   "id": "a3097c1d-0698-4338-bf8d-f82a9deb81ba",
   "metadata": {},
   "outputs": [],
   "source": [
    "p.update()"
   ]
  },
  {
   "cell_type": "code",
   "execution_count": 14,
   "id": "0aac2f30-1457-4c11-b72e-18ea789726de",
   "metadata": {},
   "outputs": [],
   "source": [
    "hp = gp.quicksum(status[i] * pokedex[status[i].varName][3] for i in status)\n",
    "attack = gp.quicksum(status[i] * pokedex[status[i].varName][4] for i in status)\n",
    "defense = gp.quicksum(status[i] * pokedex[status[i].varName][5] for i in status)\n",
    "spAttack = gp.quicksum(status[i] * pokedex[status[i].varName][6] for i in status)\n",
    "spDefense = gp.quicksum(status[i] * pokedex[status[i].varName][7] for i in status)\n",
    "\n",
    "p.setObjectiveN(hp, index=0, priority=1, weight=-5, name='HP')\n",
    "p.setObjectiveN(attack, index=1, priority=1, weight=-8, name='attack')\n",
    "p.setObjectiveN(defense, index=2, priority=1, weight=-5, name='defense')\n",
    "p.setObjectiveN(spAttack, index=3, priority=1, weight=-1, name='spAttack')\n",
    "p.setObjectiveN(spDefense, index=4, priority=1, weight=-1, name='spDefense')"
   ]
  },
  {
   "cell_type": "code",
   "execution_count": 15,
   "id": "82a978ab-a1b0-4efc-b5a0-1f0aabbd88a6",
   "metadata": {},
   "outputs": [
    {
     "name": "stdout",
     "output_type": "stream",
     "text": [
      "Gurobi Optimizer version 11.0.3 build v11.0.3rc0 (mac64[arm] - Darwin 23.5.0 23F79)\n",
      "\n",
      "CPU model: Apple M2\n",
      "Thread count: 8 physical cores, 8 logical processors, using up to 8 threads\n",
      "\n",
      "Optimize a model with 1 rows, 202 columns and 202 nonzeros\n",
      "Model fingerprint: 0x553e0adf\n",
      "Variable types: 0 continuous, 202 integer (202 binary)\n",
      "Coefficient statistics:\n",
      "  Matrix range     [1e+00, 1e+00]\n",
      "  Objective range  [5e+00, 2e+02]\n",
      "  Bounds range     [1e+00, 1e+00]\n",
      "  RHS range        [3e+00, 3e+00]\n",
      "\n",
      "---------------------------------------------------------------------------\n",
      "Multi-objectives: starting optimization with 5 objectives (1 combined) ...\n",
      "---------------------------------------------------------------------------\n",
      "---------------------------------------------------------------------------\n",
      "\n",
      "Multi-objectives: optimize objective 1 (weighted) ...\n",
      "---------------------------------------------------------------------------\n",
      "\n",
      "Optimize a model with 1 rows, 202 columns and 202 nonzeros\n",
      "Model fingerprint: 0xd4942ff2\n",
      "Variable types: 0 continuous, 202 integer (202 binary)\n",
      "Coefficient statistics:\n",
      "  Matrix range     [1e+00, 1e+00]\n",
      "  Objective range  [5e+02, 3e+03]\n",
      "  Bounds range     [1e+00, 1e+00]\n",
      "  RHS range        [3e+00, 3e+00]\n",
      "Found heuristic solution: objective -3934.000000\n",
      "Presolve removed 1 rows and 202 columns\n",
      "Presolve time: 0.00s\n",
      "Presolve: All rows and columns removed\n",
      "\n",
      "Explored 0 nodes (0 simplex iterations) in 0.01 seconds (0.00 work units)\n",
      "Thread count was 1 (of 8 available processors)\n",
      "\n",
      "Solution count 2: -7658 -3934 \n",
      "No other solutions better than -7658\n",
      "\n",
      "Optimal solution found (tolerance 1.00e-04)\n",
      "Best objective -7.658000000000e+03, best bound -7.658000000000e+03, gap 0.0000%\n",
      "\n",
      "---------------------------------------------------------------------------\n",
      "Multi-objectives: solved in 0.01 seconds (0.00 work units), solution count 2\n",
      "\n"
     ]
    }
   ],
   "source": [
    "p.optimize()"
   ]
  },
  {
   "cell_type": "code",
   "execution_count": 16,
   "id": "85293b1a-14d7-4f28-9155-a2af8b5cbe7a",
   "metadata": {},
   "outputs": [
    {
     "name": "stdout",
     "output_type": "stream",
     "text": [
      "Gyarados Mega Gyarados\n",
      "    Stats: ['Water', 'Dark', 640, 95, 155, 109, 70, 130, 81, 'images/176.png', 130]\n",
      "Mewtwo Mega Mewtwo X\n",
      "    Stats: ['Psychic', 'Fighting', 780, 106, 190, 100, 154, 100, 130, 'images/202.png', 150]\n",
      "Mewtwo Mega Mewtwo Y\n",
      "    Stats: ['Psychic', nan, 780, 106, 150, 70, 194, 120, 140, 'images/203.png', 150]\n"
     ]
    }
   ],
   "source": [
    "for v in p.getVars():\n",
    "    if v.x != 0:\n",
    "        print(v.varName)\n",
    "        print('    Stats:', pokedex[v.varName])"
   ]
  },
  {
   "cell_type": "code",
   "execution_count": null,
   "id": "ad464bf8-3dcc-4532-b892-5d0e00512ba9",
   "metadata": {},
   "outputs": [],
   "source": []
  }
 ],
 "metadata": {
  "kernelspec": {
   "display_name": "Python 3 (ipykernel)",
   "language": "python",
   "name": "python3"
  },
  "language_info": {
   "codemirror_mode": {
    "name": "ipython",
    "version": 3
   },
   "file_extension": ".py",
   "mimetype": "text/x-python",
   "name": "python",
   "nbconvert_exporter": "python",
   "pygments_lexer": "ipython3",
   "version": "3.12.4"
  }
 },
 "nbformat": 4,
 "nbformat_minor": 5
}
