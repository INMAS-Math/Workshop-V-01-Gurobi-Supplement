{
 "cells": [
  {
   "cell_type": "markdown",
   "id": "bd5629e9-e594-476d-9897-a658a74c09cf",
   "metadata": {},
   "source": [
    "<img src=\"images/Picture0.png\" width=200x />\n",
    "\n",
    "# Notebook 02 - LP Problems\n",
    "\n",
    "### Covered in this notebook:\n",
    "- Introduction to linear programming\n",
    "- Creating a model in Gurobipy\n",
    "    - Adding variables and constraints\n",
    "    - Setting objectives\n",
    "    - Adding multiple variables and constraints\n",
    "\n",
    "### Credits:\n",
    "- [What is Optimization course notes](https://sites.math.washington.edu/~burke/crs/515/notes/nt_1.pdf) by James V. Burke at University of Washington\n",
    "- Gurobi official tutorial material"
   ]
  },
  {
   "cell_type": "markdown",
   "id": "395cb5e5-c72d-4343-bbc8-9306f795c7af",
   "metadata": {
    "jp-MarkdownHeadingCollapsed": true
   },
   "source": [
    "## Introduction\n",
    "\n",
    "The Gurobi optimizer is a tool used to solve and analyze optimization problems.  An optimization problem maximizes or minimizes some function or set of functions within some set of feasible options.  This tool is expansive and adaptive: today, Gurobi is used by large organizations such as the NFL, the U.S. Census Bureau, GE, DoorDash, and many others in addition to being the favorite optimizer of academics and smaller professionals.\n",
    "\n",
    "The solver is powerful!  However, it is only as effective as the designers who use it.  It is the humans behind the screen who are responsible for efficiently representing their optimization problems in mathematical terms.  In so doing, we can put this impressive machine to best use.\n",
    "\n",
    "### Mathematical programs\n",
    "\n",
    "A <strong>mathematical program</strong> is a formulation of an optimization problem in terms of objective functions and constraints.  In standard form, a mathematical program is expressed as the following:\n",
    "\n",
    "&nbsp;&nbsp;&nbsp;&nbsp;&nbsp;&nbsp;$\\textrm{minimize or maximize the}$ $\\textbf{objective function}$ $f(x_1, x_2, ..., x_n)$\n",
    "\n",
    "&nbsp;&nbsp;&nbsp;&nbsp;&nbsp;&nbsp;$\\textrm{subject to the}$ $\\textbf{constraint equations}$ $g_i(x_1,x_2,...,x_n)\\begin{Bmatrix} \\leq \\\\ \\geq \\\\ = \\end{Bmatrix} b_i, \\forall i \\in \\{1,...,m\\}$\n",
    "\n",
    "The variables $x_i$ are known as <strong>decision variables</strong>: the values of these variables in the solution will <i>decide</i> how we procede in the real world.\n",
    "\n",
    "A <strong>linear programming problem</strong> or <strong>LP problem</strong> is a mathematical program where the objective functions $f()$ and the constraint equations $g_i()$ each are linear.  This type is the most straightforward (as well as the least computationally expensive for our solver).  Let's explore LP problems as we create our first mathematical programming model with Gurobi."
   ]
  },
  {
   "cell_type": "markdown",
   "id": "63f9296e-6fad-437d-b0e6-8cee3ad3dcb8",
   "metadata": {},
   "source": [
    "## Solving LP problems with the Gurobi optimizer\n",
    "\n",
    "Using Gurobi to solve mathematical programs will always involve the following five steps:\n",
    "\n",
    "1. Instantiate a <strong>model</strong>\n",
    "2. Add <strong>variables</strong> to the model\n",
    "3. Add <strong>constraints</strong> to the model\n",
    "4. Define the model's <strong>objective function</strong>\n",
    "5. <strong>Solve</strong> the model\n",
    "\n",
    "For our first foray, let's solve the following LP problem.\n",
    "\n",
    "***\n",
    "\n",
    "$\\textbf{objective function: }$ $\\textrm{minimize }$ $4x_1 + 7x_2 + 10x_3 + x_4$\n",
    "\n",
    "$\\textbf{constraints: }$\n",
    "\n",
    "&nbsp;&nbsp;&nbsp;&nbsp;&nbsp;&nbsp;$2x_1 + 0x_2 - 3x_3 - x_4 \\geq 20$\n",
    "\n",
    "&nbsp;&nbsp;&nbsp;&nbsp;&nbsp;&nbsp;$x_1 + 2x_2 - 4x_3 + 0x_4 \\geq 18$\n",
    "\n",
    "&nbsp;&nbsp;&nbsp;&nbsp;&nbsp;&nbsp;$\\textrm{nonnegativity of decision variables}$\n",
    "\n",
    "***"
   ]
  },
  {
   "cell_type": "markdown",
   "id": "0a9333b0-ed1e-4156-bce0-b0622a03a45f",
   "metadata": {},
   "source": [
    "### Step 1: Instantiate a model\n",
    "\n",
    "The Gurobi <strong>model</strong> object governs your program.  It holds your variables, constraints, and objective function.\n",
    "\n",
    "The model is created by calling the model constructor `gurobipy.Model()` and storing that model as a variable."
   ]
  },
  {
   "cell_type": "code",
   "execution_count": 5,
   "id": "29b1ff10-c7cf-4079-8a4d-2427ab20f5f4",
   "metadata": {},
   "outputs": [
    {
     "name": "stdout",
     "output_type": "stream",
     "text": [
      "Set parameter Username\n"
     ]
    }
   ],
   "source": [
    "import gurobipy as gp\n",
    "from gurobipy import GRB\n",
    "\n",
    "m = gp.Model(\"LP_Problem\")"
   ]
  },
  {
   "cell_type": "markdown",
   "id": "01b66c59-53de-4515-94da-a7ccf1cb2774",
   "metadata": {},
   "source": [
    "### Step 2: Add variables to the model\n",
    "\n",
    "We now call the `Model.addVar()` method on our instantiantiated model to add our <strong>decision variables</strong>.\n",
    "\n",
    "The method takes the following arguments, none of which are required, with the following default values:\n",
    "\n",
    "* `lb=0.0`: the <strong>lower bound</strong>\n",
    "    * Note that default assumes nonnegativity.\n",
    "* `ub=float('inf')`: the <strong>upper bound</strong>\n",
    "    * It's good practice in larger models to set `ub` to `GRB.INFINITY` from Gurobi's constant catalogue `GRB`.  This is slightly faster for Gurobi to handle.\n",
    "* `obj=0.0`, the <strong>objective coefficient</strong>\n",
    "    * We'll come back to this later.\n",
    "* `vtype=GRB.CONTINUOUS`: the variable <strong>type</strong>\n",
    "    * Three of the five available variable types are `GRB.CONTINUOUS`, `GRB.INTEGER`, and `GRB.BINARY`.  We'll come back to the other two later.\n",
    "* `name=\"\"`: an ASCII string representing the <strong>name</strong> of your model\n",
    "    * If you choose not to assign your decision variable to a Python variable, giving it a name and using `Model.getVarByName()` lets you access your variable later on."
   ]
  },
  {
   "cell_type": "code",
   "execution_count": 7,
   "id": "3d8f7802-8d44-45c7-be20-7fdfac04ed20",
   "metadata": {},
   "outputs": [],
   "source": [
    "## add variables to the model:\n",
    "\n",
    "from gurobipy import GRB\n",
    "\n",
    "x1 = m.addVar(ub=GRB.INFINITY)\n",
    "x2 = m.addVar(ub=GRB.INFINITY)\n",
    "x3 = m.addVar(ub=GRB.INFINITY)\n",
    "x4 = m.addVar(ub=GRB.INFINITY)"
   ]
  },
  {
   "cell_type": "markdown",
   "id": "ef423c5c-2091-4680-b8dd-50efe444ed95",
   "metadata": {},
   "source": [
    "### Step 3: Add constraints to the model\n",
    "\n",
    "We now add the constraints using the `Model.addConstr()` method.  The method takes only two arguments:\n",
    "\n",
    "* `constr`: an expression representing the <strong>constraint</strong>\n",
    "* `name`: an ASCII string representing the <strong>name</strong> of the constraint\n",
    "\n",
    "The standard Python operators (e.g. `*`, `+`, `<=`, etc.) are overloaded in Gurobi such that we can use them in expressions according to their intuitive meanings.\n",
    "\n",
    "Here are our constraints again:\n",
    "\n",
    "&nbsp;&nbsp;&nbsp;&nbsp;&nbsp;&nbsp;$2x_1 + 0x_2 - 3x_3 - x_4 \\geq 20$\n",
    "\n",
    "&nbsp;&nbsp;&nbsp;&nbsp;&nbsp;&nbsp;$x_1 + 2x_2 - 4x_3 + 0x_4 \\geq 18$\n",
    "\n",
    "&nbsp;&nbsp;&nbsp;&nbsp;&nbsp;&nbsp;$\\textrm{nonnegativity of decision variables}$\n",
    "\n",
    "Note that our variable bounds have already taken care of our final constraint.\n",
    "\n",
    "#### Temp elements\n",
    "\n",
    "Variables and constraints we add to our model are stored as temp elements until the model is solved: we can use temp elements to build other temp elements, but they do not have referenceable attributes.  If we need to do something with our elements before we get our solution, we can call `Model.update()` to process pending modifications."
   ]
  },
  {
   "cell_type": "code",
   "execution_count": 11,
   "id": "6b1b6e30-98b5-4f7a-bdb4-e7fd27eb498f",
   "metadata": {},
   "outputs": [
    {
     "data": {
      "text/plain": [
       "<gurobi.Constr *Awaiting Model Update*>"
      ]
     },
     "execution_count": 11,
     "metadata": {},
     "output_type": "execute_result"
    }
   ],
   "source": [
    "## add constraints to the model:\n",
    "\n",
    "m.addConstr(2*x1 - 3*x3 - x4 >= 20)\n",
    "m.addConstr(x1 + 2*x2 - 4*x3 >= 18)"
   ]
  },
  {
   "cell_type": "markdown",
   "id": "79a6bed6-bcb7-49db-8509-7ba136838a56",
   "metadata": {},
   "source": [
    "### Step 4: Define the model's objective function\n",
    "\n",
    "There are two ways for us to set an <strong>objective function</strong>.  The first is to use the method `Model.setObjective()` to do so, which takes the following arguments:\n",
    "\n",
    "* `expr`: The <strong>objective</strong> expression\n",
    "* `sense`: The optimization <strong>sense</strong> (namely, `GRB.MAXIMIZE` or `GRB.MINIMIZE`)\n",
    "\n",
    "Note that the sense is optional.  This is because the model itself has an attribute `ModelSense` which defaults to minimization, and which we can optionally override by defining `sense` here.\n",
    "\n",
    "Alternatively, we can have Gurobi build a linear objective function from the coefficients' variables.  Here's our objective equation again:\n",
    "\n",
    "$\\textrm{minimize }$ $4x_1 + 7x_2 + 10x_3 + x_4$\n",
    "\n",
    "Then for our problem, we could define the objective coefficients `obj` of our decision variables as we initialized them:\n",
    "\n",
    "```\n",
    "x1 = m.addVar(obj=4)\n",
    "x2 = m.addVar(obj=7)\n",
    "x3 = m.addVar(obj=10)\n",
    "x4 = m.addVar(obj=1)\n",
    "```\n",
    "\n",
    "Gurobi treats the linear combination of our weighted decision variables as the objective function unless/until another objective is set manually.  The sense of the default objective comes from the model sense."
   ]
  },
  {
   "cell_type": "code",
   "execution_count": 13,
   "id": "4cf9a31a-5a43-4918-be64-6857c48fe729",
   "metadata": {},
   "outputs": [],
   "source": [
    "## set objective equation:\n",
    "\n",
    "m.setObjective(4*x1 + 7*x2 + 10*x3 + x4)"
   ]
  },
  {
   "cell_type": "markdown",
   "id": "d4f1df06-6f97-4649-86b4-9ace3c13d7ee",
   "metadata": {},
   "source": [
    "### 5. Optimize\n",
    "\n",
    "We're now finished writing our model and are ready to optimize to our solution.\n",
    "\n",
    "We call the method `Model.optimize()`, and Gurobi reads out our solution to the log.  (Note that the `optimize` method calls `update`, so we can now reference attributes of our model elements.)"
   ]
  },
  {
   "cell_type": "code",
   "execution_count": 15,
   "id": "6fefa923-87d9-4e76-8bc8-632c2be9c474",
   "metadata": {},
   "outputs": [
    {
     "name": "stdout",
     "output_type": "stream",
     "text": [
      "Gurobi Optimizer version 11.0.3 build v11.0.3rc0 (mac64[arm] - Darwin 23.5.0 23F79)\n",
      "\n",
      "CPU model: Apple M2\n",
      "Thread count: 8 physical cores, 8 logical processors, using up to 8 threads\n",
      "\n",
      "Optimize a model with 2 rows, 4 columns and 6 nonzeros\n",
      "Model fingerprint: 0xbe860ad3\n",
      "Coefficient statistics:\n",
      "  Matrix range     [1e+00, 4e+00]\n",
      "  Objective range  [1e+00, 1e+01]\n",
      "  Bounds range     [0e+00, 0e+00]\n",
      "  RHS range        [2e+01, 2e+01]\n",
      "Presolve removed 2 rows and 4 columns\n",
      "Presolve time: 0.00s\n",
      "Presolve: All rows and columns removed\n",
      "Iteration    Objective       Primal Inf.    Dual Inf.      Time\n",
      "       0    6.8000000e+01   0.000000e+00   0.000000e+00      0s\n",
      "\n",
      "Solved in 0 iterations and 0.00 seconds (0.00 work units)\n",
      "Optimal objective  6.800000000e+01\n"
     ]
    }
   ],
   "source": [
    "## optimize model:\n",
    "\n",
    "m.optimize()"
   ]
  },
  {
   "cell_type": "markdown",
   "id": "b09920b6-ed77-445c-a521-0686be5e3a02",
   "metadata": {},
   "source": [
    "### Presolve\n",
    "\n",
    "Our model is solved, and our solution is given!  Our output gives us some information about our machine power, the size of the model's matrix, the ranges of different aspects of our model.  Next, Gurobi logs information about the presolve process.\n",
    "\n",
    "Gurobi takes a few steps in advance to reduce the complexity of our problem.  This goes beyond simply reducing the matrix; there are various tricks Gurobi can do to combine several constraints into one or to set variables' values automatically.  For example, look at our $x_3$ variable.  $x_3$ has a positive coefficient in our objective function, and we are minimizing that function.  So, we want $x_3$ to be as small as possible.  Meanwhile, $x_3$ has a negative coefficient in each of the constraint equations, and these are of the type \"greater than or equal to\".  So again, we want $x_3$ as small as possible.  Gurobi presolve then sets $x_3$ to its lower bound of zero right off the bat, effectively removing the variable from consideration.  Techniques like these reduce Gurobi's solving time, often by orders of magnitude in larger models."
   ]
  },
  {
   "cell_type": "markdown",
   "id": "720aebdf-d09e-44fc-a3c2-7d61765012e9",
   "metadata": {},
   "source": [
    "### Retrieving our solution\n",
    "\n",
    "The model's <strong>optimal objective</strong> attribute `objVal` gives us the overall value of our objective function $f()$, and is spit out on the last line of our log.  Of course, we probably want to know the values of our decision variables as well, so let's retrieve those.\n",
    "\n",
    "A decision variable's value is given by the `x` or `X` attribute.  We can query this directly…\n",
    "\n",
    "```\n",
    "x1.x\n",
    "```\n",
    "\n",
    "…or we can call the `Var.getAttr()` method on the decision variable.\n",
    "\n",
    "```\n",
    "x1.getAttr('x')\n",
    "```\n",
    "\n",
    "Finally, rather than calling`getAttr` on our variables one at a time, we can call `Model.getAttr()` on the model to deliver a list containing that attribute for all the model's variables, in the order that they were added.\n",
    "\n",
    "<i>Note: In Notebook 06, we will explore how to read and write models and their solutions to different export formats.  One of these formats (.sol) handily delivers all of our decision variables row by row with their names.  If we just want to see our solution and not work with the values it spits out in our code, this is by far the best way to get all our information at once.</i>"
   ]
  },
  {
   "cell_type": "code",
   "execution_count": 18,
   "id": "f9a78884-a3f5-438d-87cc-14fff2e18bcf",
   "metadata": {},
   "outputs": [
    {
     "data": {
      "text/plain": [
       "[10.0, 4.0, 0.0, 0.0]"
      ]
     },
     "execution_count": 18,
     "metadata": {},
     "output_type": "execute_result"
    }
   ],
   "source": [
    "# retrieve decision variables' values in solution\n",
    "m.getAttr('x')"
   ]
  },
  {
   "cell_type": "markdown",
   "id": "d6770e7c-9192-4e3f-a9e9-1f29c540df93",
   "metadata": {},
   "source": [
    "## Exercise: Landscaping Business\n",
    "\n",
    "Now it's your turn.  Use what you've learned so far to optimize the following linear programming problem:\n",
    "\n",
    "You run a landscaping business.  You're paid by the job, and the greenery you add to the grounds affects your payment significantly.  You want to know the optimal job you should strive for.\n",
    "\n",
    "You have the following conditions:\n",
    "* You can plant trees and shrubs.  Your patrons tend to prefer at least three shrubs planted for each tree.\n",
    "* Trees each take your team 1.8 hours to install, while shrub installs take 0.25 hours.  You don't want to spend more than 40 hours on greenery for a given job.\n",
    "* Your deal with the nursery allows you to take out 100 credits' worth of greenery per job.  A shrub costs 1 credit and a tree costs 5 credits.\n",
    "* The amount you earn per job starts at 5000 dollars, and increases by 400 dollars per tree and 40 dollars per shrub.\n",
    "\n",
    "What is the optimal number of trees and shrubs to plant to maximize revenue?  How much is your optimal job worth?\n",
    "\n",
    "<i>Note: While you are working, take care to remove any variables or constraints which are added in error.  Use `Model.reset()` in between revisions to clear the state of the model.</i>"
   ]
  },
  {
   "cell_type": "code",
   "execution_count": 21,
   "id": "407123e9-8f80-4b5a-9d25-aee54b3d5359",
   "metadata": {},
   "outputs": [],
   "source": [
    "# instantiate model\n",
    "l = gp.Model(\"Landscaping_Business\")\n",
    "\n",
    "# add variables\n",
    "trees = l.addVar(vtype=GRB.INTEGER, ub=GRB.INFINITY)\n",
    "shrubs = l.addVar(vtype=GRB.INTEGER, ub=GRB.INFINITY)\n",
    "l.update()\n"
   ]
  },
  {
   "cell_type": "code",
   "execution_count": 22,
   "id": "ad5c911c-a584-4239-9d43-c67bfac5218a",
   "metadata": {},
   "outputs": [
    {
     "data": {
      "text/plain": [
       "<gurobi.Constr *Awaiting Model Update*>"
      ]
     },
     "execution_count": 22,
     "metadata": {},
     "output_type": "execute_result"
    }
   ],
   "source": [
    "# add constraints\n",
    "l.addConstr(shrubs >= 3*trees)\n",
    "l.addConstr(1.8*trees + 0.25*shrubs <= 40)\n",
    "l.addConstr(shrubs + 5*trees <= 100)"
   ]
  },
  {
   "cell_type": "code",
   "execution_count": 23,
   "id": "bf555937-03f3-42e6-b6b7-7228356af1ee",
   "metadata": {},
   "outputs": [
    {
     "name": "stdout",
     "output_type": "stream",
     "text": [
      "Gurobi Optimizer version 11.0.3 build v11.0.3rc0 (mac64[arm] - Darwin 23.5.0 23F79)\n",
      "\n",
      "CPU model: Apple M2\n",
      "Thread count: 8 physical cores, 8 logical processors, using up to 8 threads\n",
      "\n",
      "Optimize a model with 3 rows, 2 columns and 6 nonzeros\n",
      "Model fingerprint: 0x703da1d8\n",
      "Variable types: 0 continuous, 2 integer (0 binary)\n",
      "Coefficient statistics:\n",
      "  Matrix range     [2e-01, 5e+00]\n",
      "  Objective range  [4e+01, 4e+02]\n",
      "  Bounds range     [0e+00, 0e+00]\n",
      "  RHS range        [4e+01, 1e+02]\n",
      "Found heuristic solution: objective 9000.0000000\n",
      "Presolve removed 3 rows and 2 columns\n",
      "Presolve time: 0.00s\n",
      "Presolve: All rows and columns removed\n",
      "\n",
      "Explored 0 nodes (0 simplex iterations) in 0.00 seconds (0.00 work units)\n",
      "Thread count was 1 (of 8 available processors)\n",
      "\n",
      "Solution count 2: 11400 9000 \n",
      "\n",
      "Optimal solution found (tolerance 1.00e-04)\n",
      "Best objective 1.140000000000e+04, best bound 1.140000000000e+04, gap 0.0000%\n"
     ]
    }
   ],
   "source": [
    "# add objective function\n",
    "l.setObjective(5000 + 400*trees + 40*shrubs, GRB.MAXIMIZE)\n",
    "\n",
    "# optimize\n",
    "l.optimize()"
   ]
  },
  {
   "cell_type": "code",
   "execution_count": 24,
   "id": "92165806-8ddd-4408-bb82-a5e02e4c2bea",
   "metadata": {},
   "outputs": [
    {
     "name": "stdout",
     "output_type": "stream",
     "text": [
      "trees: 12.0 shrubs: 40.0 total revenue: 11400.0\n"
     ]
    }
   ],
   "source": [
    "# print solution information\n",
    "print(\"trees:\", trees.x, \"shrubs:\", shrubs.x, \"total revenue:\", l.objVal)"
   ]
  }
 ],
 "metadata": {
  "kernelspec": {
   "display_name": "Python 3 (ipykernel)",
   "language": "python",
   "name": "python3"
  },
  "language_info": {
   "codemirror_mode": {
    "name": "ipython",
    "version": 3
   },
   "file_extension": ".py",
   "mimetype": "text/x-python",
   "name": "python",
   "nbconvert_exporter": "python",
   "pygments_lexer": "ipython3",
   "version": "3.12.4"
  }
 },
 "nbformat": 4,
 "nbformat_minor": 5
}
