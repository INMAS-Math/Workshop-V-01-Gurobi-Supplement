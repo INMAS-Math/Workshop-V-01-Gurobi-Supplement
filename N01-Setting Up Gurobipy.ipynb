{
 "cells": [
  {
   "cell_type": "markdown",
   "id": "968ea812-f408-4e52-a394-2299ddfcf75b",
   "metadata": {},
   "source": [
    "<img src=\"images/Picture0.png\" width=200x />\n",
    "\n",
    "# Notebook 01 - Setting Up Gurobipy\n",
    "\n",
    "### Covered in this notebook:\n",
    "- Optaining a Gurobi license\n",
    "- Installing Gurobipy in Anaconda\n",
    "- Testing Gurobipy installation\n",
    "\n",
    "### Prerequisites:\n",
    "- Have Anaconda installed on your machine\n",
    "\n",
    "### Credits:\n",
    "- [Installation of Gurobi and Gurobipy](https://www.youtube.com/watch?v=fRKhao2bzsY), tutorial by [Coding Perspective](https://www.youtube.com/@CodingPerspective)\n",
    "- [Gurobi Optimizer](https://en.wikipedia.org/wiki/Gurobi_Optimizer) page on Wikipedia"
   ]
  },
  {
   "cell_type": "markdown",
   "id": "aa66f360-d913-4a22-bf87-29ce21779e5b",
   "metadata": {},
   "source": [
    "## The Gurobi Optimizer\n",
    "The Gurobi Optimizer is a prescriptive analytics tool developed by Gurobi Optimization, LLC.  The tool uses mathematical optimization to solve linear programming, quadratic programming, quadratically constrained programming, mixed-integer linear programming, mixed-integer quadratic programming, and mixed-integer quadratically constrained programming problems.  The tool is thus simple yet diverse in relevant applications, used actively by organizations such as DoorDash, Air France, the NFL, the U.S. Census Bureau, and many more – in addition to the researchers who make great use of the product.\n",
    "\n",
    "Before we begin, you should have Python/Anaconda installed (which you will have done at the beginning of this workshop!).  You should also be on the university wifi at the time of receiving your license, as this (in conjunction with your university email) will prove your eligibility for a university Gurobi license."
   ]
  },
  {
   "cell_type": "markdown",
   "id": "b845f942-bbed-4a9d-8f0c-76510f06c891",
   "metadata": {},
   "source": [
    "## Installing Gurobi\n",
    "### 1: Create a Gurobi account\n",
    "Gurobi is a paid tool, but is available for free to students and faculty.  There are two free licenses readily available to you: the Web License Service (WLS) Academic License, valid for 90 days and usable on a variety of platforms, and the Named-User Academic License, valid for one year but infinitely renewable and usable on one machine only.  Today, we will apply for the WLS Academic License for expediency’s sake (feel free to return in the future for a longer-term license).\n",
    "\n",
    "To start, visit the [Gurobi website](https://www.gurobi.com/) and register for an account by clicking “Register” in the header bar and signing up with your university email address.  Confirm your account.\n",
    "\n",
    "<img src=\"images/N01_images/1_webpage.png\" width=400x /> <img src=\"images/N01_images/2_sign_on.png\" width=400x />\n",
    "\n",
    "### 2: Register a license\n",
    "\n",
    "After registering your account, you should be taken to the User Portal.  Click “Licenses” at left, which should then open a page titled “Request License” which displays the variety of Gurobi licenses available to you.  Click “Generate Now” under WLS Academic, the first listed option.\n",
    "\n",
    "<img src=\"images/N01_images/3_login_page.png\" width=400x /> <img src=\"images/N01_images/4_request_license.png\" width=400x />\n",
    "\n",
    "Here, Gurobi will check that you are on a university wifi, then will display the instructions for using your license.  Keep this window open; we'll apply the instructions shortly.\n",
    "\n",
    "### 3: Download the Gurobi optimizer\n",
    "\n",
    "You'll be able to navigate to the [Gurobi download center](https://www.gurobi.com/downloads/) from the header bar of your account page (under \"Downloads\").  Select the correct Gurobi optimizer for your machine from the list of current versions, and install using the wizard.\n",
    "\n",
    "<img src=\"images/N01_images/6_download_package.png\" width=400x />\n",
    "\n",
    "### 4: Activate your license\n",
    "\n",
    "Everything is installed now, so we're nearly ready.  We can now open a command window to activate our Gurobi license and install the package in Anaconda.\n",
    "\n",
    "You saved the installation instructions for your license during Step 2; if not, you can find them through your Gurobi account portal by clicking \"Licenses\" in the lefthand navigator to open your [active license page](https://portal.gurobi.com/iam/licenses/list), then clicking the computer icon at the far right of your active license.  The command with begin with \"<strong>grbgetkey</strong>\", followed by your particular license number.\n",
    "\n",
    "Run the command.  You may use the default installation location.\n",
    "\n",
    "<img src=\"images/N01_images/3_login_page.png\" width=400x /> <img src=\"images/N01_images/7_terminal_window.png\" width=400x /> \n",
    "\n",
    "### 5: Activate Gurobi optimizer in Anaconda\n",
    "\n",
    "This is our final step, and it's a simple one!  Run the following conda command, and allow the installation to run:\n",
    "\n",
    "`conda install -c gurobi gurobi`\n",
    "\n",
    "<img src=\"images/N01_images/8_conda_install.png\" width=400x />\n",
    "\n",
    "Once the tool is installed, relaunch Anaconda and return here to test that the installation was successful.\n",
    "\n",
    "### 6: Test Activation\n",
    "As a quick test to make sure everything has run properly, execute the following code to create an empty model:"
   ]
  },
  {
   "cell_type": "code",
   "execution_count": 1,
   "id": "8c2f97db-0e8e-47d4-8d39-c312a28c0d12",
   "metadata": {},
   "outputs": [
    {
     "name": "stdout",
     "output_type": "stream",
     "text": [
      "Set parameter Username\n"
     ]
    },
    {
     "data": {
      "text/plain": [
       "<gurobi.Model Continuous instance Unnamed: 0 constrs, 0 vars, Parameter changes: Username=(user-defined)>"
      ]
     },
     "execution_count": 1,
     "metadata": {},
     "output_type": "execute_result"
    }
   ],
   "source": [
    "from gurobipy import *\n",
    "Model()"
   ]
  },
  {
   "cell_type": "markdown",
   "id": "d9ffb719-5a86-4ac7-b6d0-10bc39b0e10d",
   "metadata": {},
   "source": [
    "The code should run with no errors.  That is to say, you should see that a <strong>gurobi.Model</strong> was created properly (though it will of course not have any elements).  Essentially, we don't want to see a bright red output.\n",
    "\n",
    "(When your Gurobi model is empty, you may see console flags, e.g. \"Set parameter Username\" – these are not a problem and will cease to display after some time.)\n",
    "\n",
    "Great!  Now that we have the package installed, let’s move on to learning how to use Gurobi."
   ]
  }
 ],
 "metadata": {
  "kernelspec": {
   "display_name": "Python 3 (ipykernel)",
   "language": "python",
   "name": "python3"
  },
  "language_info": {
   "codemirror_mode": {
    "name": "ipython",
    "version": 3
   },
   "file_extension": ".py",
   "mimetype": "text/x-python",
   "name": "python",
   "nbconvert_exporter": "python",
   "pygments_lexer": "ipython3",
   "version": "3.12.4"
  }
 },
 "nbformat": 4,
 "nbformat_minor": 5
}
